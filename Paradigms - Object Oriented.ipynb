{
 "cells": [
  {
   "cell_type": "markdown",
   "id": "0cf75aa7",
   "metadata": {},
   "source": [
    "Code from exercises"
   ]
  },
  {
   "cell_type": "code",
   "execution_count": 1,
   "id": "44e0f51b",
   "metadata": {},
   "outputs": [
    {
     "name": "stdout",
     "output_type": "stream",
     "text": [
      "What is the next number?\n",
      "done\n",
      "The min is: None, the max is: None\n"
     ]
    }
   ],
   "source": [
    "isDone = False\n",
    "maxNum = None\n",
    "minNum = None\n",
    "\n",
    "while not isDone:\n",
    "    number = input(\"What is the next number?\\n\")\n",
    "    if number == \"done\":\n",
    "        isDone = True\n",
    "    else:\n",
    "        try:\n",
    "            number = float(number)\n",
    "            if maxNum == None:\n",
    "                maxNum = number\n",
    "            elif maxNum < number:\n",
    "                maxNum = number\n",
    "            \n",
    "            if minNum == None:\n",
    "                minNum = number\n",
    "            elif minNum > number:\n",
    "                minNum = number\n",
    "        except:\n",
    "            print(\"That is not a number. Please enter a number.\")\n",
    "print(f\"The min is: {minNum}, the max is: {maxNum}\")"
   ]
  },
  {
   "cell_type": "code",
   "execution_count": 5,
   "id": "3aad892f",
   "metadata": {},
   "outputs": [
    {
     "name": "stdout",
     "output_type": "stream",
     "text": [
      "What is the next number?\n",
      "5\n",
      "What is the next number?\n",
      "7\n",
      "What is the next number?\n",
      "3\n",
      "What is the next number?\n",
      "5\n",
      "What is the next number?\n",
      "done\n",
      "The min is: 3, the max is: 7\n"
     ]
    }
   ],
   "source": [
    "maxNum = None\n",
    "minNum = None\n",
    "\n",
    "def updateMax(number, maxNum):\n",
    "    if maxNum == None:\n",
    "        return number\n",
    "    elif maxNum < number:\n",
    "        return number\n",
    "    else:\n",
    "        return maxNum\n",
    "\n",
    "def updateMin(number, minNum):\n",
    "    if minNum == None:\n",
    "        return number\n",
    "    elif minNum > number:\n",
    "        return number\n",
    "    else:\n",
    "        return minNum\n",
    "\n",
    "def checkValidInput(number):\n",
    "    if number == \"done\":\n",
    "        isDone = True\n",
    "        return True\n",
    "    try:\n",
    "        number = float(number)\n",
    "        return True\n",
    "    except:\n",
    "        return False\n",
    "\n",
    "\n",
    "isDone = False\n",
    "while not isDone:\n",
    "    number = input(\"What is the next number?\\n\")\n",
    "    if not checkValidInput(number):\n",
    "        print(\"That is not a number. Please enter a number.\")\n",
    "        continue\n",
    "    elif number == \"done\":\n",
    "        isDone = True\n",
    "    else:\n",
    "            maxNum = updateMax(number, maxNum)\n",
    "            minNum = updateMin(number, minNum)\n",
    "            \n",
    "print(f\"The min is: {minNum}, the max is: {maxNum}\")"
   ]
  },
  {
   "cell_type": "code",
   "execution_count": 7,
   "id": "97e28f1d",
   "metadata": {},
   "outputs": [],
   "source": [
    "from sklearn.cluster import KMeans\n",
    "import matplotlib.pyplot as plt"
   ]
  },
  {
   "cell_type": "code",
   "execution_count": null,
   "id": "cbbf605e",
   "metadata": {},
   "outputs": [],
   "source": [
    "# def experimentalKmean(k):\n",
    "#     KMeans(k)\n",
    "#     kmeans = kemans.fit_predict(df)\n",
    "#     plt.scatter(\n",
    "        \n",
    "#     )"
   ]
  },
  {
   "cell_type": "code",
   "execution_count": null,
   "id": "9da25b4e",
   "metadata": {},
   "outputs": [],
   "source": [
    "# max(numList)"
   ]
  },
  {
   "cell_type": "markdown",
   "id": "96cdbded",
   "metadata": {},
   "source": [
    "## Classes"
   ]
  },
  {
   "cell_type": "code",
   "execution_count": 8,
   "id": "bc4f059b",
   "metadata": {},
   "outputs": [],
   "source": [
    "class Rectangle():\n",
    "    length = 5\n",
    "    width = 3"
   ]
  },
  {
   "cell_type": "code",
   "execution_count": 9,
   "id": "e63c4730",
   "metadata": {},
   "outputs": [],
   "source": [
    "rect1 = Rectangle()"
   ]
  },
  {
   "cell_type": "code",
   "execution_count": 10,
   "id": "aa87baa0",
   "metadata": {},
   "outputs": [
    {
     "data": {
      "text/plain": [
       "5"
      ]
     },
     "execution_count": 10,
     "metadata": {},
     "output_type": "execute_result"
    }
   ],
   "source": [
    "rect1.length"
   ]
  },
  {
   "cell_type": "code",
   "execution_count": 11,
   "id": "a896290f",
   "metadata": {},
   "outputs": [],
   "source": [
    "rect2 = Rectangle()"
   ]
  },
  {
   "cell_type": "code",
   "execution_count": 12,
   "id": "98bea328",
   "metadata": {},
   "outputs": [
    {
     "data": {
      "text/plain": [
       "5"
      ]
     },
     "execution_count": 12,
     "metadata": {},
     "output_type": "execute_result"
    }
   ],
   "source": [
    "rect2.length"
   ]
  },
  {
   "cell_type": "code",
   "execution_count": 13,
   "id": "640ff2ee",
   "metadata": {},
   "outputs": [],
   "source": [
    "rect2.length = 10"
   ]
  },
  {
   "cell_type": "code",
   "execution_count": 14,
   "id": "cf9ce4d8",
   "metadata": {},
   "outputs": [
    {
     "data": {
      "text/plain": [
       "10"
      ]
     },
     "execution_count": 14,
     "metadata": {},
     "output_type": "execute_result"
    }
   ],
   "source": [
    "rect2.length "
   ]
  },
  {
   "cell_type": "code",
   "execution_count": 15,
   "id": "1aa64c60",
   "metadata": {},
   "outputs": [
    {
     "data": {
      "text/plain": [
       "5"
      ]
     },
     "execution_count": 15,
     "metadata": {},
     "output_type": "execute_result"
    }
   ],
   "source": [
    "rect1.length"
   ]
  },
  {
   "cell_type": "code",
   "execution_count": 16,
   "id": "c29ea8b7",
   "metadata": {},
   "outputs": [],
   "source": [
    "class Rectangle():\n",
    "    length = 5\n",
    "    width = 3\n",
    "    # constructor - this defines the properties of the object when\n",
    "    # it is first made\n",
    "    # it is a function that runs when a new instance/object is created\n",
    "    def __init__(self, length, width): # NOTE: 2 _ before and after\n",
    "        print(\"Created a new rectangle!!\")\n",
    "        self.length = length\n",
    "        self.width = width\n"
   ]
  },
  {
   "cell_type": "code",
   "execution_count": 17,
   "id": "ea05c58f",
   "metadata": {},
   "outputs": [
    {
     "ename": "TypeError",
     "evalue": "Rectangle.__init__() missing 2 required positional arguments: 'length' and 'width'",
     "output_type": "error",
     "traceback": [
      "\u001b[1;31m---------------------------------------------------------------------------\u001b[0m",
      "\u001b[1;31mTypeError\u001b[0m                                 Traceback (most recent call last)",
      "Cell \u001b[1;32mIn[17], line 1\u001b[0m\n\u001b[1;32m----> 1\u001b[0m rect3 \u001b[38;5;241m=\u001b[39m Rectangle()\n",
      "\u001b[1;31mTypeError\u001b[0m: Rectangle.__init__() missing 2 required positional arguments: 'length' and 'width'"
     ]
    }
   ],
   "source": [
    "#rect3 = Rectangle()"
   ]
  },
  {
   "cell_type": "code",
   "execution_count": 18,
   "id": "ace8dd46",
   "metadata": {},
   "outputs": [
    {
     "name": "stdout",
     "output_type": "stream",
     "text": [
      "Created a new rectangle!!\n"
     ]
    }
   ],
   "source": [
    "rect3 = Rectangle(7, 4)"
   ]
  },
  {
   "cell_type": "code",
   "execution_count": 19,
   "id": "e45f2064",
   "metadata": {},
   "outputs": [
    {
     "data": {
      "text/plain": [
       "7"
      ]
     },
     "execution_count": 19,
     "metadata": {},
     "output_type": "execute_result"
    }
   ],
   "source": [
    "rect3.length"
   ]
  },
  {
   "cell_type": "code",
   "execution_count": 20,
   "id": "3fd9fbba",
   "metadata": {},
   "outputs": [],
   "source": [
    "class Rectangle():\n",
    "    length = 5\n",
    "    width = 3\n",
    "    # constructor - this defines the properties of the object when\n",
    "    # it is first made\n",
    "    # it is a function that runs when a new instance/object is created\n",
    "    def __init__(self, length, width): # NOTE: 2 _ before and after\n",
    "        print(\"Created a new rectangle!!\")\n",
    "        self.length = length\n",
    "        self.width = width\n",
    "    def calculateArea(self):\n",
    "        return self.length * self.width"
   ]
  },
  {
   "cell_type": "code",
   "execution_count": 21,
   "id": "80633c6b",
   "metadata": {},
   "outputs": [
    {
     "name": "stdout",
     "output_type": "stream",
     "text": [
      "Created a new rectangle!!\n"
     ]
    }
   ],
   "source": [
    "rect4 = Rectangle(7, 4)"
   ]
  },
  {
   "cell_type": "code",
   "execution_count": 22,
   "id": "be87238e",
   "metadata": {},
   "outputs": [
    {
     "data": {
      "text/plain": [
       "28"
      ]
     },
     "execution_count": 22,
     "metadata": {},
     "output_type": "execute_result"
    }
   ],
   "source": [
    "rect4.calculateArea()"
   ]
  },
  {
   "cell_type": "code",
   "execution_count": 23,
   "id": "2ece22d0",
   "metadata": {},
   "outputs": [
    {
     "name": "stdout",
     "output_type": "stream",
     "text": [
      "Created a new rectangle!!\n"
     ]
    }
   ],
   "source": [
    "rect5 = Rectangle(5, 8)"
   ]
  },
  {
   "cell_type": "code",
   "execution_count": 24,
   "id": "454c6885",
   "metadata": {},
   "outputs": [
    {
     "data": {
      "text/plain": [
       "40"
      ]
     },
     "execution_count": 24,
     "metadata": {},
     "output_type": "execute_result"
    }
   ],
   "source": [
    "rect5.calculateArea()"
   ]
  },
  {
   "cell_type": "code",
   "execution_count": 26,
   "id": "73127694",
   "metadata": {},
   "outputs": [],
   "source": [
    "class Rectangle():\n",
    "    length = 5\n",
    "    width = 3\n",
    "    # constructor - this defines the properties of the object when\n",
    "    # it is first made\n",
    "    # it is a function that runs when a new instance/object is created\n",
    "    def __init__(self, length=5, width=9): # NOTE: 2 _ before and after\n",
    "        print(\"Created a new rectangle!!\")\n",
    "        self.length = length\n",
    "        self.width = width\n",
    "    def calculateArea(self):\n",
    "        return self.length * self.width"
   ]
  },
  {
   "cell_type": "code",
   "execution_count": 27,
   "id": "05a37201",
   "metadata": {},
   "outputs": [
    {
     "name": "stdout",
     "output_type": "stream",
     "text": [
      "Created a new rectangle!!\n"
     ]
    }
   ],
   "source": [
    "rect6 = Rectangle(width=2)"
   ]
  },
  {
   "cell_type": "code",
   "execution_count": 28,
   "id": "e790ad6b",
   "metadata": {},
   "outputs": [
    {
     "data": {
      "text/plain": [
       "10"
      ]
     },
     "execution_count": 28,
     "metadata": {},
     "output_type": "execute_result"
    }
   ],
   "source": [
    "rect6.calculateArea()"
   ]
  },
  {
   "cell_type": "code",
   "execution_count": 29,
   "id": "db7fc316",
   "metadata": {},
   "outputs": [
    {
     "data": {
      "text/plain": [
       "__main__.Rectangle"
      ]
     },
     "execution_count": 29,
     "metadata": {},
     "output_type": "execute_result"
    }
   ],
   "source": [
    "type(rect6)"
   ]
  },
  {
   "cell_type": "code",
   "execution_count": 30,
   "id": "1373a30c",
   "metadata": {},
   "outputs": [
    {
     "name": "stdout",
     "output_type": "stream",
     "text": [
      "<__main__.Rectangle object at 0x000002079013BBD0>\n"
     ]
    }
   ],
   "source": [
    "print(rect6)"
   ]
  },
  {
   "cell_type": "code",
   "execution_count": 37,
   "id": "00754c1f",
   "metadata": {},
   "outputs": [],
   "source": [
    "class Rectangle():\n",
    "    length = 5\n",
    "    width = 3\n",
    "    # constructor - this defines the properties of the object when\n",
    "    # it is first made\n",
    "    # it is a function that runs when a new instance/object is created\n",
    "    def __init__(self, length=5, width=9): # NOTE: 2 _ before and after\n",
    "        print(\"Created a new rectangle!!\")\n",
    "        self.length = length\n",
    "        self.width = width\n",
    "    def calculateArea(self):\n",
    "        return self.length * self.width\n",
    "    def __str__(self): # to string method\n",
    "        return f\"This rectangle has a length of {self.length} and a width of {self.width}\""
   ]
  },
  {
   "cell_type": "code",
   "execution_count": 35,
   "id": "d5be1a64",
   "metadata": {},
   "outputs": [
    {
     "name": "stdout",
     "output_type": "stream",
     "text": [
      "Created a new rectangle!!\n"
     ]
    }
   ],
   "source": [
    "rect7 = Rectangle(10, 20)"
   ]
  },
  {
   "cell_type": "code",
   "execution_count": 36,
   "id": "ab2bd023",
   "metadata": {},
   "outputs": [
    {
     "name": "stdout",
     "output_type": "stream",
     "text": [
      "This rectangle has a length of 10 and a width of 20\n"
     ]
    }
   ],
   "source": [
    "print(rect7)"
   ]
  },
  {
   "cell_type": "code",
   "execution_count": 65,
   "id": "371d53e4",
   "metadata": {},
   "outputs": [],
   "source": [
    "class Shape():\n",
    "    def __init__(self, color, isFilled):\n",
    "        self.color = color\n",
    "        self.isFilled = isFilled\n",
    "    def printColor(self):\n",
    "        print(f\"This shape has the color: {self.color}\")"
   ]
  },
  {
   "cell_type": "code",
   "execution_count": 66,
   "id": "c8c0f872",
   "metadata": {},
   "outputs": [],
   "source": [
    "class Rectangle(Shape):\n",
    "    length = 5\n",
    "    width = 3\n",
    "    # constructor - this defines the properties of the object when\n",
    "    # it is first made\n",
    "    # it is a function that runs when a new instance/object is created\n",
    "    def __init__(self, length=5, width=9, color=\"yellow\", isFilled=True): # NOTE: 2 _ before and after\n",
    "        print(\"Created a new rectangle!!\")\n",
    "        self.length = length\n",
    "        self.width = width\n",
    "        Shape.__init__(self, color, isFilled)\n",
    "#         super(Shape, color, isFilled)\n",
    "    def calculateArea(self):\n",
    "        return self.length * self.width\n",
    "    def __str__(self): # to string method\n",
    "        return f\"This rectangle has a length of {self.length} and a width of {self.width}\""
   ]
  },
  {
   "cell_type": "code",
   "execution_count": 67,
   "id": "4654560b",
   "metadata": {},
   "outputs": [
    {
     "name": "stdout",
     "output_type": "stream",
     "text": [
      "Created a new rectangle!!\n"
     ]
    }
   ],
   "source": [
    "rect8 = Rectangle()"
   ]
  },
  {
   "cell_type": "code",
   "execution_count": 68,
   "id": "d323ad54",
   "metadata": {},
   "outputs": [
    {
     "data": {
      "text/plain": [
       "'yellow'"
      ]
     },
     "execution_count": 68,
     "metadata": {},
     "output_type": "execute_result"
    }
   ],
   "source": [
    "rect8.color"
   ]
  },
  {
   "cell_type": "code",
   "execution_count": 69,
   "id": "6138f65d",
   "metadata": {},
   "outputs": [
    {
     "data": {
      "text/plain": [
       "__main__.Rectangle"
      ]
     },
     "execution_count": 69,
     "metadata": {},
     "output_type": "execute_result"
    }
   ],
   "source": [
    "type(rect8)"
   ]
  },
  {
   "cell_type": "code",
   "execution_count": 70,
   "id": "21f33d81",
   "metadata": {},
   "outputs": [
    {
     "name": "stdout",
     "output_type": "stream",
     "text": [
      "This shape has the color: yellow\n"
     ]
    }
   ],
   "source": [
    "rect8.printColor()"
   ]
  },
  {
   "cell_type": "markdown",
   "id": "221c1423",
   "metadata": {},
   "source": [
    "## SKlearn"
   ]
  },
  {
   "cell_type": "code",
   "execution_count": 57,
   "id": "451e23e3",
   "metadata": {},
   "outputs": [],
   "source": [
    "from sklearn.linear_model import LinearRegression"
   ]
  },
  {
   "cell_type": "code",
   "execution_count": 58,
   "id": "ab282ec2",
   "metadata": {},
   "outputs": [
    {
     "data": {
      "text/html": [
       "<style>#sk-container-id-1 {color: black;}#sk-container-id-1 pre{padding: 0;}#sk-container-id-1 div.sk-toggleable {background-color: white;}#sk-container-id-1 label.sk-toggleable__label {cursor: pointer;display: block;width: 100%;margin-bottom: 0;padding: 0.3em;box-sizing: border-box;text-align: center;}#sk-container-id-1 label.sk-toggleable__label-arrow:before {content: \"▸\";float: left;margin-right: 0.25em;color: #696969;}#sk-container-id-1 label.sk-toggleable__label-arrow:hover:before {color: black;}#sk-container-id-1 div.sk-estimator:hover label.sk-toggleable__label-arrow:before {color: black;}#sk-container-id-1 div.sk-toggleable__content {max-height: 0;max-width: 0;overflow: hidden;text-align: left;background-color: #f0f8ff;}#sk-container-id-1 div.sk-toggleable__content pre {margin: 0.2em;color: black;border-radius: 0.25em;background-color: #f0f8ff;}#sk-container-id-1 input.sk-toggleable__control:checked~div.sk-toggleable__content {max-height: 200px;max-width: 100%;overflow: auto;}#sk-container-id-1 input.sk-toggleable__control:checked~label.sk-toggleable__label-arrow:before {content: \"▾\";}#sk-container-id-1 div.sk-estimator input.sk-toggleable__control:checked~label.sk-toggleable__label {background-color: #d4ebff;}#sk-container-id-1 div.sk-label input.sk-toggleable__control:checked~label.sk-toggleable__label {background-color: #d4ebff;}#sk-container-id-1 input.sk-hidden--visually {border: 0;clip: rect(1px 1px 1px 1px);clip: rect(1px, 1px, 1px, 1px);height: 1px;margin: -1px;overflow: hidden;padding: 0;position: absolute;width: 1px;}#sk-container-id-1 div.sk-estimator {font-family: monospace;background-color: #f0f8ff;border: 1px dotted black;border-radius: 0.25em;box-sizing: border-box;margin-bottom: 0.5em;}#sk-container-id-1 div.sk-estimator:hover {background-color: #d4ebff;}#sk-container-id-1 div.sk-parallel-item::after {content: \"\";width: 100%;border-bottom: 1px solid gray;flex-grow: 1;}#sk-container-id-1 div.sk-label:hover label.sk-toggleable__label {background-color: #d4ebff;}#sk-container-id-1 div.sk-serial::before {content: \"\";position: absolute;border-left: 1px solid gray;box-sizing: border-box;top: 0;bottom: 0;left: 50%;z-index: 0;}#sk-container-id-1 div.sk-serial {display: flex;flex-direction: column;align-items: center;background-color: white;padding-right: 0.2em;padding-left: 0.2em;position: relative;}#sk-container-id-1 div.sk-item {position: relative;z-index: 1;}#sk-container-id-1 div.sk-parallel {display: flex;align-items: stretch;justify-content: center;background-color: white;position: relative;}#sk-container-id-1 div.sk-item::before, #sk-container-id-1 div.sk-parallel-item::before {content: \"\";position: absolute;border-left: 1px solid gray;box-sizing: border-box;top: 0;bottom: 0;left: 50%;z-index: -1;}#sk-container-id-1 div.sk-parallel-item {display: flex;flex-direction: column;z-index: 1;position: relative;background-color: white;}#sk-container-id-1 div.sk-parallel-item:first-child::after {align-self: flex-end;width: 50%;}#sk-container-id-1 div.sk-parallel-item:last-child::after {align-self: flex-start;width: 50%;}#sk-container-id-1 div.sk-parallel-item:only-child::after {width: 0;}#sk-container-id-1 div.sk-dashed-wrapped {border: 1px dashed gray;margin: 0 0.4em 0.5em 0.4em;box-sizing: border-box;padding-bottom: 0.4em;background-color: white;}#sk-container-id-1 div.sk-label label {font-family: monospace;font-weight: bold;display: inline-block;line-height: 1.2em;}#sk-container-id-1 div.sk-label-container {text-align: center;}#sk-container-id-1 div.sk-container {/* jupyter's `normalize.less` sets `[hidden] { display: none; }` but bootstrap.min.css set `[hidden] { display: none !important; }` so we also need the `!important` here to be able to override the default hidden behavior on the sphinx rendered scikit-learn.org. See: https://github.com/scikit-learn/scikit-learn/issues/21755 */display: inline-block !important;position: relative;}#sk-container-id-1 div.sk-text-repr-fallback {display: none;}</style><div id=\"sk-container-id-1\" class=\"sk-top-container\"><div class=\"sk-text-repr-fallback\"><pre>LinearRegression()</pre><b>In a Jupyter environment, please rerun this cell to show the HTML representation or trust the notebook. <br />On GitHub, the HTML representation is unable to render, please try loading this page with nbviewer.org.</b></div><div class=\"sk-container\" hidden><div class=\"sk-item\"><div class=\"sk-estimator sk-toggleable\"><input class=\"sk-toggleable__control sk-hidden--visually\" id=\"sk-estimator-id-1\" type=\"checkbox\" checked><label for=\"sk-estimator-id-1\" class=\"sk-toggleable__label sk-toggleable__label-arrow\">LinearRegression</label><div class=\"sk-toggleable__content\"><pre>LinearRegression()</pre></div></div></div></div></div>"
      ],
      "text/plain": [
       "LinearRegression()"
      ]
     },
     "execution_count": 58,
     "metadata": {},
     "output_type": "execute_result"
    }
   ],
   "source": [
    "LinearRegression()"
   ]
  },
  {
   "cell_type": "markdown",
   "id": "7b30ac06",
   "metadata": {},
   "source": [
    "## Practice\n",
    "- Make a Car class\n",
    "- Give it the following attributes:\n",
    "    - Make\n",
    "    - Model\n",
    "    - Colour\n",
    "    - Direction\n",
    "    - Speed\n",
    "    - Max Speed\n",
    "- Give it an \\_\\_init\\_\\_() method\n",
    "- Give it the following methods:\n",
    "    - Accelerate\n",
    "    - Brake\n",
    "    - Turn\n",
    "- Give it a \\_\\_str\\_\\_() that outputs the current speed and direction of the car\n",
    "\n",
    "- Make a car, and go driving!"
   ]
  },
  {
   "cell_type": "code",
   "execution_count": 75,
   "id": "bd37063d",
   "metadata": {},
   "outputs": [],
   "source": [
    "class Car():\n",
    "    def __init__(self, make, model, colour, maxSpeed):\n",
    "        self.make = make\n",
    "        self.model = model\n",
    "        self.colour = colour\n",
    "        self.maxSpeed = maxSpeed\n",
    "        self.speed = 0\n",
    "        self.direction = 0\n",
    "    def accelerate(self, amount):\n",
    "        self.speed += amount\n",
    "        if (self.speed > self.maxSpeed):\n",
    "            self.speed = self.maxSpeed\n",
    "    def brake(self, amount):\n",
    "        self.speed -= amount\n",
    "        if (self.speed < 0):\n",
    "            self.speed = 0\n",
    "    def turn(self, amount):\n",
    "        self.direction += amount\n",
    "        self.direction = self.direction % 360\n",
    "    def __str__(self):\n",
    "        return f\"The speed is {self.speed} travelling {self.direction} degrees from North\""
   ]
  },
  {
   "cell_type": "code",
   "execution_count": 76,
   "id": "9f44a69b",
   "metadata": {},
   "outputs": [],
   "source": [
    "car = Car(make=\"Ford\", model=\"Focus\", colour=\"Yellow\", maxSpeed=150)"
   ]
  },
  {
   "cell_type": "code",
   "execution_count": 77,
   "id": "55665049",
   "metadata": {},
   "outputs": [
    {
     "name": "stdout",
     "output_type": "stream",
     "text": [
      "The speed is 0 travelling 0 degrees from North\n"
     ]
    }
   ],
   "source": [
    "print(car)"
   ]
  },
  {
   "cell_type": "code",
   "execution_count": 78,
   "id": "9523e1ef",
   "metadata": {},
   "outputs": [],
   "source": [
    "car.accelerate(100)"
   ]
  },
  {
   "cell_type": "code",
   "execution_count": 79,
   "id": "13690932",
   "metadata": {},
   "outputs": [
    {
     "name": "stdout",
     "output_type": "stream",
     "text": [
      "The speed is 100 travelling 0 degrees from North\n"
     ]
    }
   ],
   "source": [
    "print(car)"
   ]
  },
  {
   "cell_type": "code",
   "execution_count": 80,
   "id": "34d0f9fa",
   "metadata": {},
   "outputs": [
    {
     "name": "stdout",
     "output_type": "stream",
     "text": [
      "The speed is 150 travelling 0 degrees from North\n"
     ]
    }
   ],
   "source": [
    "car.accelerate(100)\n",
    "print(car)"
   ]
  },
  {
   "cell_type": "code",
   "execution_count": 81,
   "id": "c20250d2",
   "metadata": {},
   "outputs": [],
   "source": [
    "car.brake(200)"
   ]
  },
  {
   "cell_type": "code",
   "execution_count": 82,
   "id": "509faa49",
   "metadata": {},
   "outputs": [
    {
     "name": "stdout",
     "output_type": "stream",
     "text": [
      "The speed is 0 travelling 0 degrees from North\n"
     ]
    }
   ],
   "source": [
    "print(car)"
   ]
  },
  {
   "cell_type": "code",
   "execution_count": 83,
   "id": "7fe9a91e",
   "metadata": {},
   "outputs": [],
   "source": [
    "car.turn(90)"
   ]
  },
  {
   "cell_type": "code",
   "execution_count": 84,
   "id": "3c710337",
   "metadata": {},
   "outputs": [
    {
     "name": "stdout",
     "output_type": "stream",
     "text": [
      "The speed is 0 travelling 90 degrees from North\n"
     ]
    }
   ],
   "source": [
    "print(car)"
   ]
  },
  {
   "cell_type": "code",
   "execution_count": null,
   "id": "249e9b78",
   "metadata": {},
   "outputs": [],
   "source": []
  }
 ],
 "metadata": {
  "kernelspec": {
   "display_name": "Python 3 (ipykernel)",
   "language": "python",
   "name": "python3"
  },
  "language_info": {
   "codemirror_mode": {
    "name": "ipython",
    "version": 3
   },
   "file_extension": ".py",
   "mimetype": "text/x-python",
   "name": "python",
   "nbconvert_exporter": "python",
   "pygments_lexer": "ipython3",
   "version": "3.11.5"
  }
 },
 "nbformat": 4,
 "nbformat_minor": 5
}
