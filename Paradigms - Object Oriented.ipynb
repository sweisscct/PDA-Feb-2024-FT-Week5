{
 "cells": [
  {
   "cell_type": "markdown",
   "id": "289cbf73",
   "metadata": {},
   "source": [
    "Code from exercises"
   ]
  },
  {
   "cell_type": "code",
   "execution_count": 1,
   "id": "63688952",
   "metadata": {},
   "outputs": [
    {
     "name": "stdout",
     "output_type": "stream",
     "text": [
      "What is the next number?\n",
      "done\n",
      "The min is: None, the max is: None\n"
     ]
    }
   ],
   "source": [
    "isDone = False\n",
    "maxNum = None\n",
    "minNum = None\n",
    "\n",
    "while not isDone:\n",
    "    number = input(\"What is the next number?\\n\")\n",
    "    if number == \"done\":\n",
    "        isDone = True\n",
    "    else:\n",
    "        try:\n",
    "            number = float(number)\n",
    "            if maxNum == None:\n",
    "                maxNum = number\n",
    "            elif maxNum < number:\n",
    "                maxNum = number\n",
    "            \n",
    "            if minNum == None:\n",
    "                minNum = number\n",
    "            elif minNum > number:\n",
    "                minNum = number\n",
    "        except:\n",
    "            print(\"That is not a number. Please enter a number.\")\n",
    "print(f\"The min is: {minNum}, the max is: {maxNum}\")"
   ]
  },
  {
   "cell_type": "code",
   "execution_count": 5,
   "id": "885dbeac",
   "metadata": {},
   "outputs": [
    {
     "name": "stdout",
     "output_type": "stream",
     "text": [
      "What is the next number?\n",
      "5\n",
      "What is the next number?\n",
      "7\n",
      "What is the next number?\n",
      "3\n",
      "What is the next number?\n",
      "5\n",
      "What is the next number?\n",
      "done\n",
      "The min is: 3, the max is: 7\n"
     ]
    }
   ],
   "source": [
    "maxNum = None\n",
    "minNum = None\n",
    "\n",
    "def updateMax(number, maxNum):\n",
    "    if maxNum == None:\n",
    "        return number\n",
    "    elif maxNum < number:\n",
    "        return number\n",
    "    else:\n",
    "        return maxNum\n",
    "\n",
    "def updateMin(number, minNum):\n",
    "    if minNum == None:\n",
    "        return number\n",
    "    elif minNum > number:\n",
    "        return number\n",
    "    else:\n",
    "        return minNum\n",
    "\n",
    "def checkValidInput(number):\n",
    "    if number == \"done\":\n",
    "        isDone = True\n",
    "        return True\n",
    "    try:\n",
    "        number = float(number)\n",
    "        return True\n",
    "    except:\n",
    "        return False\n",
    "\n",
    "\n",
    "isDone = False\n",
    "while not isDone:\n",
    "    number = input(\"What is the next number?\\n\")\n",
    "    if not checkValidInput(number):\n",
    "        print(\"That is not a number. Please enter a number.\")\n",
    "        continue\n",
    "    elif number == \"done\":\n",
    "        isDone = True\n",
    "    else:\n",
    "            maxNum = updateMax(number, maxNum)\n",
    "            minNum = updateMin(number, minNum)\n",
    "            \n",
    "print(f\"The min is: {minNum}, the max is: {maxNum}\")"
   ]
  },
  {
   "cell_type": "code",
   "execution_count": 7,
   "id": "d506f1b5",
   "metadata": {},
   "outputs": [],
   "source": [
    "from sklearn.cluster import KMeans\n",
    "import matplotlib.pyplot as plt"
   ]
  },
  {
   "cell_type": "code",
   "execution_count": null,
   "id": "5f367d7b",
   "metadata": {},
   "outputs": [],
   "source": [
    "# def experimentalKmean(k):\n",
    "#     KMeans(k)\n",
    "#     kmeans = kemans.fit_predict(df)\n",
    "#     plt.scatter(\n",
    "        \n",
    "#     )"
   ]
  },
  {
   "cell_type": "code",
   "execution_count": null,
   "id": "f50b2c9f",
   "metadata": {},
   "outputs": [],
   "source": [
    "# max(numList)"
   ]
  },
  {
   "cell_type": "markdown",
   "id": "3b996617",
   "metadata": {},
   "source": [
    "## Classes"
   ]
  },
  {
   "cell_type": "code",
   "execution_count": 8,
   "id": "68f5be7c",
   "metadata": {},
   "outputs": [],
   "source": [
    "class Rectangle():\n",
    "    length = 5\n",
    "    width = 3"
   ]
  },
  {
   "cell_type": "code",
   "execution_count": 9,
   "id": "08e96dbb",
   "metadata": {},
   "outputs": [],
   "source": [
    "rect1 = Rectangle()"
   ]
  },
  {
   "cell_type": "code",
   "execution_count": 10,
   "id": "31d932df",
   "metadata": {},
   "outputs": [
    {
     "data": {
      "text/plain": [
       "5"
      ]
     },
     "execution_count": 10,
     "metadata": {},
     "output_type": "execute_result"
    }
   ],
   "source": [
    "rect1.length"
   ]
  },
  {
   "cell_type": "code",
   "execution_count": 11,
   "id": "4cccf1ef",
   "metadata": {},
   "outputs": [],
   "source": [
    "rect2 = Rectangle()"
   ]
  },
  {
   "cell_type": "code",
   "execution_count": 12,
   "id": "f757d4fe",
   "metadata": {},
   "outputs": [
    {
     "data": {
      "text/plain": [
       "5"
      ]
     },
     "execution_count": 12,
     "metadata": {},
     "output_type": "execute_result"
    }
   ],
   "source": [
    "rect2.length"
   ]
  },
  {
   "cell_type": "code",
   "execution_count": 13,
   "id": "d0ca6f04",
   "metadata": {},
   "outputs": [],
   "source": [
    "rect2.length = 10"
   ]
  },
  {
   "cell_type": "code",
   "execution_count": 14,
   "id": "8d2b19e4",
   "metadata": {},
   "outputs": [
    {
     "data": {
      "text/plain": [
       "10"
      ]
     },
     "execution_count": 14,
     "metadata": {},
     "output_type": "execute_result"
    }
   ],
   "source": [
    "rect2.length "
   ]
  },
  {
   "cell_type": "code",
   "execution_count": 15,
   "id": "0ec1b7ba",
   "metadata": {},
   "outputs": [
    {
     "data": {
      "text/plain": [
       "5"
      ]
     },
     "execution_count": 15,
     "metadata": {},
     "output_type": "execute_result"
    }
   ],
   "source": [
    "rect1.length"
   ]
  },
  {
   "cell_type": "code",
   "execution_count": 16,
   "id": "2385c92f",
   "metadata": {},
   "outputs": [],
   "source": [
    "class Rectangle():\n",
    "    length = 5\n",
    "    width = 3\n",
    "    # constructor - this defines the properties of the object when\n",
    "    # it is first made\n",
    "    # it is a function that runs when a new instance/object is created\n",
    "    def __init__(self, length, width): # NOTE: 2 _ before and after\n",
    "        print(\"Created a new rectangle!!\")\n",
    "        self.length = length\n",
    "        self.width = width\n"
   ]
  },
  {
   "cell_type": "code",
   "execution_count": 17,
   "id": "a1a9129b",
   "metadata": {},
   "outputs": [
    {
     "ename": "TypeError",
     "evalue": "Rectangle.__init__() missing 2 required positional arguments: 'length' and 'width'",
     "output_type": "error",
     "traceback": [
      "\u001b[1;31m---------------------------------------------------------------------------\u001b[0m",
      "\u001b[1;31mTypeError\u001b[0m                                 Traceback (most recent call last)",
      "Cell \u001b[1;32mIn[17], line 1\u001b[0m\n\u001b[1;32m----> 1\u001b[0m rect3 \u001b[38;5;241m=\u001b[39m Rectangle()\n",
      "\u001b[1;31mTypeError\u001b[0m: Rectangle.__init__() missing 2 required positional arguments: 'length' and 'width'"
     ]
    }
   ],
   "source": [
    "#rect3 = Rectangle()"
   ]
  },
  {
   "cell_type": "code",
   "execution_count": 18,
   "id": "0cd2a11b",
   "metadata": {},
   "outputs": [
    {
     "name": "stdout",
     "output_type": "stream",
     "text": [
      "Created a new rectangle!!\n"
     ]
    }
   ],
   "source": [
    "rect3 = Rectangle(7, 4)"
   ]
  },
  {
   "cell_type": "code",
   "execution_count": 19,
   "id": "5f047dab",
   "metadata": {},
   "outputs": [
    {
     "data": {
      "text/plain": [
       "7"
      ]
     },
     "execution_count": 19,
     "metadata": {},
     "output_type": "execute_result"
    }
   ],
   "source": [
    "rect3.length"
   ]
  },
  {
   "cell_type": "code",
   "execution_count": 20,
   "id": "10a2c589",
   "metadata": {},
   "outputs": [],
   "source": [
    "class Rectangle():\n",
    "    length = 5\n",
    "    width = 3\n",
    "    # constructor - this defines the properties of the object when\n",
    "    # it is first made\n",
    "    # it is a function that runs when a new instance/object is created\n",
    "    def __init__(self, length, width): # NOTE: 2 _ before and after\n",
    "        print(\"Created a new rectangle!!\")\n",
    "        self.length = length\n",
    "        self.width = width\n",
    "    def calculateArea(self):\n",
    "        return self.length * self.width"
   ]
  },
  {
   "cell_type": "code",
   "execution_count": 21,
   "id": "89dd4cad",
   "metadata": {},
   "outputs": [
    {
     "name": "stdout",
     "output_type": "stream",
     "text": [
      "Created a new rectangle!!\n"
     ]
    }
   ],
   "source": [
    "rect4 = Rectangle(7, 4)"
   ]
  },
  {
   "cell_type": "code",
   "execution_count": 22,
   "id": "c3a17547",
   "metadata": {},
   "outputs": [
    {
     "data": {
      "text/plain": [
       "28"
      ]
     },
     "execution_count": 22,
     "metadata": {},
     "output_type": "execute_result"
    }
   ],
   "source": [
    "rect4.calculateArea()"
   ]
  },
  {
   "cell_type": "code",
   "execution_count": 23,
   "id": "bc25bd4b",
   "metadata": {},
   "outputs": [
    {
     "name": "stdout",
     "output_type": "stream",
     "text": [
      "Created a new rectangle!!\n"
     ]
    }
   ],
   "source": [
    "rect5 = Rectangle(5, 8)"
   ]
  },
  {
   "cell_type": "code",
   "execution_count": 24,
   "id": "bab9f317",
   "metadata": {},
   "outputs": [
    {
     "data": {
      "text/plain": [
       "40"
      ]
     },
     "execution_count": 24,
     "metadata": {},
     "output_type": "execute_result"
    }
   ],
   "source": [
    "rect5.calculateArea()"
   ]
  },
  {
   "cell_type": "code",
   "execution_count": 26,
   "id": "fad4c40e",
   "metadata": {},
   "outputs": [],
   "source": [
    "class Rectangle():\n",
    "    length = 5\n",
    "    width = 3\n",
    "    # constructor - this defines the properties of the object when\n",
    "    # it is first made\n",
    "    # it is a function that runs when a new instance/object is created\n",
    "    def __init__(self, length=5, width=9): # NOTE: 2 _ before and after\n",
    "        print(\"Created a new rectangle!!\")\n",
    "        self.length = length\n",
    "        self.width = width\n",
    "    def calculateArea(self):\n",
    "        return self.length * self.width"
   ]
  },
  {
   "cell_type": "code",
   "execution_count": 27,
   "id": "c7d7466d",
   "metadata": {},
   "outputs": [
    {
     "name": "stdout",
     "output_type": "stream",
     "text": [
      "Created a new rectangle!!\n"
     ]
    }
   ],
   "source": [
    "rect6 = Rectangle(width=2)"
   ]
  },
  {
   "cell_type": "code",
   "execution_count": 28,
   "id": "c6f546d0",
   "metadata": {},
   "outputs": [
    {
     "data": {
      "text/plain": [
       "10"
      ]
     },
     "execution_count": 28,
     "metadata": {},
     "output_type": "execute_result"
    }
   ],
   "source": [
    "rect6.calculateArea()"
   ]
  },
  {
   "cell_type": "code",
   "execution_count": 29,
   "id": "ec8a0ebd",
   "metadata": {},
   "outputs": [
    {
     "data": {
      "text/plain": [
       "__main__.Rectangle"
      ]
     },
     "execution_count": 29,
     "metadata": {},
     "output_type": "execute_result"
    }
   ],
   "source": [
    "type(rect6)"
   ]
  },
  {
   "cell_type": "code",
   "execution_count": 30,
   "id": "b7212667",
   "metadata": {},
   "outputs": [
    {
     "name": "stdout",
     "output_type": "stream",
     "text": [
      "<__main__.Rectangle object at 0x000002079013BBD0>\n"
     ]
    }
   ],
   "source": [
    "print(rect6)"
   ]
  },
  {
   "cell_type": "code",
   "execution_count": 37,
   "id": "568ffa4b",
   "metadata": {},
   "outputs": [],
   "source": [
    "class Rectangle():\n",
    "    length = 5\n",
    "    width = 3\n",
    "    # constructor - this defines the properties of the object when\n",
    "    # it is first made\n",
    "    # it is a function that runs when a new instance/object is created\n",
    "    def __init__(self, length=5, width=9): # NOTE: 2 _ before and after\n",
    "        print(\"Created a new rectangle!!\")\n",
    "        self.length = length\n",
    "        self.width = width\n",
    "    def calculateArea(self):\n",
    "        return self.length * self.width\n",
    "    def __str__(self): # to string method\n",
    "        return f\"This rectangle has a length of {self.length} and a width of {self.width}\""
   ]
  },
  {
   "cell_type": "code",
   "execution_count": 35,
   "id": "1352287a",
   "metadata": {},
   "outputs": [
    {
     "name": "stdout",
     "output_type": "stream",
     "text": [
      "Created a new rectangle!!\n"
     ]
    }
   ],
   "source": [
    "rect7 = Rectangle(10, 20)"
   ]
  },
  {
   "cell_type": "code",
   "execution_count": 36,
   "id": "a4831260",
   "metadata": {},
   "outputs": [
    {
     "name": "stdout",
     "output_type": "stream",
     "text": [
      "This rectangle has a length of 10 and a width of 20\n"
     ]
    }
   ],
   "source": [
    "print(rect7)"
   ]
  },
  {
   "cell_type": "code",
   "execution_count": 51,
   "id": "02537df2",
   "metadata": {},
   "outputs": [],
   "source": [
    "class Shape():\n",
    "    def __init__(self, color, isFilled):\n",
    "        self.color = color\n",
    "        self.isFilled = isFilled\n",
    "    def printColor():\n",
    "        print(f\"This shape has the color: {self.color}\")"
   ]
  },
  {
   "cell_type": "code",
   "execution_count": 54,
   "id": "1871011f",
   "metadata": {},
   "outputs": [],
   "source": [
    "class Rectangle(Shape):\n",
    "    length = 5\n",
    "    width = 3\n",
    "    # constructor - this defines the properties of the object when\n",
    "    # it is first made\n",
    "    # it is a function that runs when a new instance/object is created\n",
    "    def __init__(self, length=5, width=9, color=\"yellow\", isFilled=True): # NOTE: 2 _ before and after\n",
    "        print(\"Created a new rectangle!!\")\n",
    "        self.length = length\n",
    "        self.width = width\n",
    "        Shape.__init__(self, color, isFilled)\n",
    "#         super(Shape, color, isFilled)\n",
    "    def calculateArea(self):\n",
    "        return self.length * self.width\n",
    "    def __str__(self): # to string method\n",
    "        return f\"This rectangle has a length of {self.length} and a width of {self.width}\""
   ]
  },
  {
   "cell_type": "code",
   "execution_count": 55,
   "id": "e511ad9f",
   "metadata": {},
   "outputs": [
    {
     "name": "stdout",
     "output_type": "stream",
     "text": [
      "Created a new rectangle!!\n"
     ]
    },
    {
     "ename": "TypeError",
     "evalue": "super() expected at most 2 arguments, got 3",
     "output_type": "error",
     "traceback": [
      "\u001b[1;31m---------------------------------------------------------------------------\u001b[0m",
      "\u001b[1;31mTypeError\u001b[0m                                 Traceback (most recent call last)",
      "Cell \u001b[1;32mIn[55], line 1\u001b[0m\n\u001b[1;32m----> 1\u001b[0m rect8 \u001b[38;5;241m=\u001b[39m Rectangle()\n",
      "Cell \u001b[1;32mIn[54], line 12\u001b[0m, in \u001b[0;36mRectangle.__init__\u001b[1;34m(self, length, width, color, isFilled)\u001b[0m\n\u001b[0;32m     10\u001b[0m         \u001b[38;5;28mself\u001b[39m\u001b[38;5;241m.\u001b[39mwidth \u001b[38;5;241m=\u001b[39m width\n\u001b[0;32m     11\u001b[0m \u001b[38;5;66;03m#         Shape.__init__(self, color, isFilled)\u001b[39;00m\n\u001b[1;32m---> 12\u001b[0m         \u001b[38;5;28msuper\u001b[39m(Shape, color, isFilled)\n",
      "\u001b[1;31mTypeError\u001b[0m: super() expected at most 2 arguments, got 3"
     ]
    }
   ],
   "source": [
    "rect8 = Rectangle()"
   ]
  },
  {
   "cell_type": "code",
   "execution_count": 49,
   "id": "fc9768f2",
   "metadata": {},
   "outputs": [
    {
     "data": {
      "text/plain": [
       "'yellow'"
      ]
     },
     "execution_count": 49,
     "metadata": {},
     "output_type": "execute_result"
    }
   ],
   "source": [
    "rect8.color"
   ]
  },
  {
   "cell_type": "code",
   "execution_count": 50,
   "id": "272cd85d",
   "metadata": {},
   "outputs": [
    {
     "data": {
      "text/plain": [
       "__main__.Rectangle"
      ]
     },
     "execution_count": 50,
     "metadata": {},
     "output_type": "execute_result"
    }
   ],
   "source": [
    "type(rect8)"
   ]
  },
  {
   "cell_type": "code",
   "execution_count": 53,
   "id": "84f895b8",
   "metadata": {},
   "outputs": [
    {
     "ename": "AttributeError",
     "evalue": "'Rectangle' object has no attribute 'printColor'",
     "output_type": "error",
     "traceback": [
      "\u001b[1;31m---------------------------------------------------------------------------\u001b[0m",
      "\u001b[1;31mAttributeError\u001b[0m                            Traceback (most recent call last)",
      "Cell \u001b[1;32mIn[53], line 1\u001b[0m\n\u001b[1;32m----> 1\u001b[0m rect8\u001b[38;5;241m.\u001b[39mprintColor()\n",
      "\u001b[1;31mAttributeError\u001b[0m: 'Rectangle' object has no attribute 'printColor'"
     ]
    }
   ],
   "source": [
    "rect8.printColor()"
   ]
  },
  {
   "cell_type": "markdown",
   "id": "d2302674",
   "metadata": {},
   "source": [
    "## SKlearn"
   ]
  },
  {
   "cell_type": "code",
   "execution_count": 57,
   "id": "1f892844",
   "metadata": {},
   "outputs": [],
   "source": [
    "from sklearn.linear_model import LinearRegression"
   ]
  },
  {
   "cell_type": "code",
   "execution_count": 58,
   "id": "de11f57b",
   "metadata": {},
   "outputs": [
    {
     "data": {
      "text/html": [
       "<style>#sk-container-id-1 {color: black;}#sk-container-id-1 pre{padding: 0;}#sk-container-id-1 div.sk-toggleable {background-color: white;}#sk-container-id-1 label.sk-toggleable__label {cursor: pointer;display: block;width: 100%;margin-bottom: 0;padding: 0.3em;box-sizing: border-box;text-align: center;}#sk-container-id-1 label.sk-toggleable__label-arrow:before {content: \"▸\";float: left;margin-right: 0.25em;color: #696969;}#sk-container-id-1 label.sk-toggleable__label-arrow:hover:before {color: black;}#sk-container-id-1 div.sk-estimator:hover label.sk-toggleable__label-arrow:before {color: black;}#sk-container-id-1 div.sk-toggleable__content {max-height: 0;max-width: 0;overflow: hidden;text-align: left;background-color: #f0f8ff;}#sk-container-id-1 div.sk-toggleable__content pre {margin: 0.2em;color: black;border-radius: 0.25em;background-color: #f0f8ff;}#sk-container-id-1 input.sk-toggleable__control:checked~div.sk-toggleable__content {max-height: 200px;max-width: 100%;overflow: auto;}#sk-container-id-1 input.sk-toggleable__control:checked~label.sk-toggleable__label-arrow:before {content: \"▾\";}#sk-container-id-1 div.sk-estimator input.sk-toggleable__control:checked~label.sk-toggleable__label {background-color: #d4ebff;}#sk-container-id-1 div.sk-label input.sk-toggleable__control:checked~label.sk-toggleable__label {background-color: #d4ebff;}#sk-container-id-1 input.sk-hidden--visually {border: 0;clip: rect(1px 1px 1px 1px);clip: rect(1px, 1px, 1px, 1px);height: 1px;margin: -1px;overflow: hidden;padding: 0;position: absolute;width: 1px;}#sk-container-id-1 div.sk-estimator {font-family: monospace;background-color: #f0f8ff;border: 1px dotted black;border-radius: 0.25em;box-sizing: border-box;margin-bottom: 0.5em;}#sk-container-id-1 div.sk-estimator:hover {background-color: #d4ebff;}#sk-container-id-1 div.sk-parallel-item::after {content: \"\";width: 100%;border-bottom: 1px solid gray;flex-grow: 1;}#sk-container-id-1 div.sk-label:hover label.sk-toggleable__label {background-color: #d4ebff;}#sk-container-id-1 div.sk-serial::before {content: \"\";position: absolute;border-left: 1px solid gray;box-sizing: border-box;top: 0;bottom: 0;left: 50%;z-index: 0;}#sk-container-id-1 div.sk-serial {display: flex;flex-direction: column;align-items: center;background-color: white;padding-right: 0.2em;padding-left: 0.2em;position: relative;}#sk-container-id-1 div.sk-item {position: relative;z-index: 1;}#sk-container-id-1 div.sk-parallel {display: flex;align-items: stretch;justify-content: center;background-color: white;position: relative;}#sk-container-id-1 div.sk-item::before, #sk-container-id-1 div.sk-parallel-item::before {content: \"\";position: absolute;border-left: 1px solid gray;box-sizing: border-box;top: 0;bottom: 0;left: 50%;z-index: -1;}#sk-container-id-1 div.sk-parallel-item {display: flex;flex-direction: column;z-index: 1;position: relative;background-color: white;}#sk-container-id-1 div.sk-parallel-item:first-child::after {align-self: flex-end;width: 50%;}#sk-container-id-1 div.sk-parallel-item:last-child::after {align-self: flex-start;width: 50%;}#sk-container-id-1 div.sk-parallel-item:only-child::after {width: 0;}#sk-container-id-1 div.sk-dashed-wrapped {border: 1px dashed gray;margin: 0 0.4em 0.5em 0.4em;box-sizing: border-box;padding-bottom: 0.4em;background-color: white;}#sk-container-id-1 div.sk-label label {font-family: monospace;font-weight: bold;display: inline-block;line-height: 1.2em;}#sk-container-id-1 div.sk-label-container {text-align: center;}#sk-container-id-1 div.sk-container {/* jupyter's `normalize.less` sets `[hidden] { display: none; }` but bootstrap.min.css set `[hidden] { display: none !important; }` so we also need the `!important` here to be able to override the default hidden behavior on the sphinx rendered scikit-learn.org. See: https://github.com/scikit-learn/scikit-learn/issues/21755 */display: inline-block !important;position: relative;}#sk-container-id-1 div.sk-text-repr-fallback {display: none;}</style><div id=\"sk-container-id-1\" class=\"sk-top-container\"><div class=\"sk-text-repr-fallback\"><pre>LinearRegression()</pre><b>In a Jupyter environment, please rerun this cell to show the HTML representation or trust the notebook. <br />On GitHub, the HTML representation is unable to render, please try loading this page with nbviewer.org.</b></div><div class=\"sk-container\" hidden><div class=\"sk-item\"><div class=\"sk-estimator sk-toggleable\"><input class=\"sk-toggleable__control sk-hidden--visually\" id=\"sk-estimator-id-1\" type=\"checkbox\" checked><label for=\"sk-estimator-id-1\" class=\"sk-toggleable__label sk-toggleable__label-arrow\">LinearRegression</label><div class=\"sk-toggleable__content\"><pre>LinearRegression()</pre></div></div></div></div></div>"
      ],
      "text/plain": [
       "LinearRegression()"
      ]
     },
     "execution_count": 58,
     "metadata": {},
     "output_type": "execute_result"
    }
   ],
   "source": [
    "LinearRegression()"
   ]
  },
  {
   "cell_type": "markdown",
   "id": "a706b5d6",
   "metadata": {},
   "source": [
    "## Practice\n",
    "- Make a Car class\n",
    "- Give it the following attributes:\n",
    "    - Make\n",
    "    - Model\n",
    "    - Colour\n",
    "    - Direction\n",
    "    - Speed\n",
    "    - Max Speed\n",
    "- Give it an \\_\\_init\\_\\_() method\n",
    "- Give it the following methods:\n",
    "    - Accelerate\n",
    "    - Brake\n",
    "    - Turn\n",
    "- Give it a \\_\\_str\\_\\_() that outputs the current speed and direction of the car"
   ]
  },
  {
   "cell_type": "code",
   "execution_count": null,
   "id": "a3827d50",
   "metadata": {},
   "outputs": [],
   "source": []
  }
 ],
 "metadata": {
  "kernelspec": {
   "display_name": "Python 3 (ipykernel)",
   "language": "python",
   "name": "python3"
  },
  "language_info": {
   "codemirror_mode": {
    "name": "ipython",
    "version": 3
   },
   "file_extension": ".py",
   "mimetype": "text/x-python",
   "name": "python",
   "nbconvert_exporter": "python",
   "pygments_lexer": "ipython3",
   "version": "3.11.5"
  }
 },
 "nbformat": 4,
 "nbformat_minor": 5
}
