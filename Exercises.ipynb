{
 "cells": [
  {
   "cell_type": "markdown",
   "id": "4e84b9a9",
   "metadata": {},
   "source": [
    "## Homework\n",
    "- Ch.5 Exercises\n",
    "- Ch. ~9~ 8 Exercise 6"
   ]
  },
  {
   "cell_type": "markdown",
   "id": "90e52f8a",
   "metadata": {},
   "source": [
    "## Chapter 5\n",
    "## Exercise 1: \n",
    "Write a program which repeatedly reads numbers until the\n",
    "user enters “done”. Once “done” is entered, print out the total, count,\n",
    "and average of the numbers. If the user enters anything other than a\n",
    "number, detect their mistake using try and except and print an error\n",
    "message and skip to the next number."
   ]
  },
  {
   "cell_type": "code",
   "execution_count": 1,
   "id": "dc571477",
   "metadata": {},
   "outputs": [
    {
     "name": "stdout",
     "output_type": "stream",
     "text": [
      "What is the next number?\n",
      "5\n",
      "What is the next number?\n",
      "7\n",
      "What is the next number?\n",
      "sam\n",
      "That is not a number. Please enter a number.\n",
      "What is the next number?\n",
      "3\n",
      "What is the next number?\n",
      "done\n",
      "The total is: 15.0, the count is: 3 and the average is: 5.0\n"
     ]
    }
   ],
   "source": [
    "isDone = False\n",
    "numList = []\n",
    "\n",
    "while not isDone:\n",
    "    number = input(\"What is the next number?\\n\")\n",
    "    if number == \"done\":\n",
    "        isDone = True\n",
    "    else:\n",
    "        try:\n",
    "            number = float(number)\n",
    "            numList.append(number)\n",
    "        except:\n",
    "            print(\"That is not a number. Please enter a number.\")\n",
    "# total = sum(numList)\n",
    "\n",
    "total = 0\n",
    "count = 0\n",
    "for num in numList:\n",
    "    total += num\n",
    "    count += 1\n",
    "print(f\"The total is: {total}, the count is: {count} and the average is: {total/count}\")"
   ]
  },
  {
   "cell_type": "code",
   "execution_count": 2,
   "id": "e8f42868",
   "metadata": {},
   "outputs": [
    {
     "data": {
      "text/plain": [
       "[5.0, 7.0, 3.0]"
      ]
     },
     "execution_count": 2,
     "metadata": {},
     "output_type": "execute_result"
    }
   ],
   "source": [
    "numList"
   ]
  },
  {
   "cell_type": "code",
   "execution_count": 3,
   "id": "91d6bd4b",
   "metadata": {},
   "outputs": [
    {
     "data": {
      "text/plain": [
       "15.0"
      ]
     },
     "execution_count": 3,
     "metadata": {},
     "output_type": "execute_result"
    }
   ],
   "source": [
    "sum(numList)"
   ]
  },
  {
   "cell_type": "code",
   "execution_count": 4,
   "id": "dd1e59af",
   "metadata": {},
   "outputs": [
    {
     "data": {
      "text/plain": [
       "3"
      ]
     },
     "execution_count": 4,
     "metadata": {},
     "output_type": "execute_result"
    }
   ],
   "source": [
    "len(numList)"
   ]
  },
  {
   "cell_type": "code",
   "execution_count": 5,
   "id": "1c5a3e14",
   "metadata": {},
   "outputs": [
    {
     "data": {
      "text/plain": [
       "5.0"
      ]
     },
     "execution_count": 5,
     "metadata": {},
     "output_type": "execute_result"
    }
   ],
   "source": [
    "sum(numList)/len(numList)"
   ]
  },
  {
   "cell_type": "code",
   "execution_count": 6,
   "id": "1dbbbe84",
   "metadata": {},
   "outputs": [
    {
     "name": "stdout",
     "output_type": "stream",
     "text": [
      "What is the next number?\n",
      "5\n",
      "What is the next number?\n",
      "7\n",
      "What is the next number?\n",
      "sam\n",
      "That is not a number. Please enter a number.\n",
      "What is the next number?\n",
      "3\n",
      "What is the next number?\n",
      "done\n",
      "The total is: 15.0, the count is: 3 and the average is: 5.0\n"
     ]
    }
   ],
   "source": [
    "isDone = False\n",
    "total = 0\n",
    "count = 0\n",
    "\n",
    "while not isDone:\n",
    "    number = input(\"What is the next number?\\n\")\n",
    "    if number == \"done\":\n",
    "        isDone = True\n",
    "    else:\n",
    "        try:\n",
    "            number = float(number)\n",
    "            total += number\n",
    "            count += 1\n",
    "        except:\n",
    "            print(\"That is not a number. Please enter a number.\")\n",
    "print(f\"The total is: {total}, the count is: {count} and the average is: {total/count}\")"
   ]
  },
  {
   "cell_type": "markdown",
   "id": "d19bce3e",
   "metadata": {},
   "source": [
    "## Exercise 2: \n",
    "Write another program that prompts for a list of numbers\n",
    "as above and at the end prints out both the maximum and minimum of\n",
    "the numbers instead of the average."
   ]
  },
  {
   "cell_type": "code",
   "execution_count": 7,
   "id": "0f40a4c8",
   "metadata": {},
   "outputs": [
    {
     "data": {
      "text/plain": [
       "3.0"
      ]
     },
     "execution_count": 7,
     "metadata": {},
     "output_type": "execute_result"
    }
   ],
   "source": [
    "min(numList)"
   ]
  },
  {
   "cell_type": "code",
   "execution_count": 8,
   "id": "3b4ae594",
   "metadata": {},
   "outputs": [
    {
     "data": {
      "text/plain": [
       "7.0"
      ]
     },
     "execution_count": 8,
     "metadata": {},
     "output_type": "execute_result"
    }
   ],
   "source": [
    "max(numList)"
   ]
  },
  {
   "cell_type": "code",
   "execution_count": 9,
   "id": "6b83fe3c",
   "metadata": {},
   "outputs": [
    {
     "name": "stdout",
     "output_type": "stream",
     "text": [
      "What is the next number?\n",
      "3\n",
      "What is the next number?\n",
      "9\n",
      "What is the next number?\n",
      "4\n",
      "What is the next number?\n",
      "done\n",
      "The max is: 9.0, the min is: 3.0\n"
     ]
    }
   ],
   "source": [
    "isDone = False\n",
    "numList = []\n",
    "\n",
    "while not isDone:\n",
    "    number = input(\"What is the next number?\\n\")\n",
    "    if number == \"done\":\n",
    "        isDone = True\n",
    "    else:\n",
    "        try:\n",
    "            number = float(number)\n",
    "            numList.append(number)\n",
    "        except:\n",
    "            print(\"That is not a number. Please enter a number.\")\n",
    "# total = sum(numList)\n",
    "\n",
    "print(f\"The max is: {max(numList)}, the min is: {min(numList)}\")"
   ]
  },
  {
   "cell_type": "code",
   "execution_count": 10,
   "id": "a05a741d",
   "metadata": {},
   "outputs": [
    {
     "name": "stdout",
     "output_type": "stream",
     "text": [
      "What is the next number?\n",
      "8\n",
      "What is the next number?\n",
      "9\n",
      "What is the next number?\n",
      "1\n",
      "What is the next number?\n",
      "6\n",
      "What is the next number?\n",
      "10\n",
      "What is the next number?\n",
      "2\n",
      "What is the next number?\n",
      "4\n",
      "What is the next number?\n",
      "7\n",
      "What is the next number?\n",
      "done\n",
      "The min is: 1.0, the max is: 10.0\n"
     ]
    }
   ],
   "source": [
    "isDone = False\n",
    "maxNum = None\n",
    "minNum = None\n",
    "\n",
    "while not isDone:\n",
    "    number = input(\"What is the next number?\\n\")\n",
    "    if number == \"done\":\n",
    "        isDone = True\n",
    "    else:\n",
    "        try:\n",
    "            number = float(number)\n",
    "            if maxNum == None:\n",
    "                maxNum = number\n",
    "            elif maxNum < number:\n",
    "                maxNum = number\n",
    "            \n",
    "            if minNum == None:\n",
    "                minNum = number\n",
    "            elif minNum > number:\n",
    "                minNum = number\n",
    "        except:\n",
    "            print(\"That is not a number. Please enter a number.\")\n",
    "print(f\"The min is: {minNum}, the max is: {maxNum}\")"
   ]
  },
  {
   "cell_type": "markdown",
   "id": "58dbb100",
   "metadata": {},
   "source": [
    "## Chapter 8\n",
    "## Exercise 6:"
   ]
  }
 ],
 "metadata": {
  "kernelspec": {
   "display_name": "Python 3 (ipykernel)",
   "language": "python",
   "name": "python3"
  },
  "language_info": {
   "codemirror_mode": {
    "name": "ipython",
    "version": 3
   },
   "file_extension": ".py",
   "mimetype": "text/x-python",
   "name": "python",
   "nbconvert_exporter": "python",
   "pygments_lexer": "ipython3",
   "version": "3.11.5"
  }
 },
 "nbformat": 4,
 "nbformat_minor": 5
}
