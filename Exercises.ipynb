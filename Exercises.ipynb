{
 "cells": [
  {
   "cell_type": "markdown",
   "id": "9f7344c7",
   "metadata": {},
   "source": [
    "## Homework\n",
    "- Ch.5 Exercises\n",
    "- Ch. ~9~ 8 Exercise 6"
   ]
  },
  {
   "cell_type": "markdown",
   "id": "7f899898",
   "metadata": {},
   "source": [
    "## Chapter 5\n",
    "## Exercise 1: \n",
    "Write a program which repeatedly reads numbers until the\n",
    "user enters “done”. Once “done” is entered, print out the total, count,\n",
    "and average of the numbers. If the user enters anything other than a\n",
    "number, detect their mistake using try and except and print an error\n",
    "message and skip to the next number."
   ]
  },
  {
   "cell_type": "code",
   "execution_count": 1,
   "id": "59437177",
   "metadata": {},
   "outputs": [
    {
     "name": "stdout",
     "output_type": "stream",
     "text": [
      "What is the next number?\n",
      "5\n",
      "What is the next number?\n",
      "7\n",
      "What is the next number?\n",
      "sam\n",
      "That is not a number. Please enter a number.\n",
      "What is the next number?\n",
      "3\n",
      "What is the next number?\n",
      "done\n",
      "The total is: 15.0, the count is: 3 and the average is: 5.0\n"
     ]
    }
   ],
   "source": [
    "isDone = False\n",
    "numList = []\n",
    "\n",
    "while not isDone:\n",
    "    number = input(\"What is the next number?\\n\")\n",
    "    if number == \"done\":\n",
    "        isDone = True\n",
    "    else:\n",
    "        try:\n",
    "            number = float(number)\n",
    "            numList.append(number)\n",
    "        except:\n",
    "            print(\"That is not a number. Please enter a number.\")\n",
    "# total = sum(numList)\n",
    "\n",
    "total = 0\n",
    "count = 0\n",
    "for num in numList:\n",
    "    total += num\n",
    "    count += 1\n",
    "print(f\"The total is: {total}, the count is: {count} and the average is: {total/count}\")"
   ]
  },
  {
   "cell_type": "code",
   "execution_count": 2,
   "id": "c70bc0e1",
   "metadata": {},
   "outputs": [
    {
     "data": {
      "text/plain": [
       "[5.0, 7.0, 3.0]"
      ]
     },
     "execution_count": 2,
     "metadata": {},
     "output_type": "execute_result"
    }
   ],
   "source": [
    "numList"
   ]
  },
  {
   "cell_type": "code",
   "execution_count": 3,
   "id": "16fc6086",
   "metadata": {},
   "outputs": [
    {
     "data": {
      "text/plain": [
       "15.0"
      ]
     },
     "execution_count": 3,
     "metadata": {},
     "output_type": "execute_result"
    }
   ],
   "source": [
    "sum(numList)"
   ]
  },
  {
   "cell_type": "code",
   "execution_count": 4,
   "id": "3ca4396f",
   "metadata": {},
   "outputs": [
    {
     "data": {
      "text/plain": [
       "3"
      ]
     },
     "execution_count": 4,
     "metadata": {},
     "output_type": "execute_result"
    }
   ],
   "source": [
    "len(numList)"
   ]
  },
  {
   "cell_type": "code",
   "execution_count": 5,
   "id": "1414d12e",
   "metadata": {},
   "outputs": [
    {
     "data": {
      "text/plain": [
       "5.0"
      ]
     },
     "execution_count": 5,
     "metadata": {},
     "output_type": "execute_result"
    }
   ],
   "source": [
    "sum(numList)/len(numList)"
   ]
  },
  {
   "cell_type": "code",
   "execution_count": 6,
   "id": "165da651",
   "metadata": {},
   "outputs": [
    {
     "name": "stdout",
     "output_type": "stream",
     "text": [
      "What is the next number?\n",
      "5\n",
      "What is the next number?\n",
      "7\n",
      "What is the next number?\n",
      "sam\n",
      "That is not a number. Please enter a number.\n",
      "What is the next number?\n",
      "3\n",
      "What is the next number?\n",
      "done\n",
      "The total is: 15.0, the count is: 3 and the average is: 5.0\n"
     ]
    }
   ],
   "source": [
    "isDone = False\n",
    "total = 0\n",
    "count = 0\n",
    "\n",
    "while not isDone:\n",
    "    number = input(\"What is the next number?\\n\")\n",
    "    if number == \"done\":\n",
    "        isDone = True\n",
    "    else:\n",
    "        try:\n",
    "            number = float(number)\n",
    "            total += number\n",
    "            count += 1\n",
    "        except:\n",
    "            print(\"That is not a number. Please enter a number.\")\n",
    "print(f\"The total is: {total}, the count is: {count} and the average is: {total/count}\")"
   ]
  },
  {
   "cell_type": "markdown",
   "id": "b2abb147",
   "metadata": {},
   "source": [
    "## Exercise 2: \n",
    "Write another program that prompts for a list of numbers\n",
    "as above and at the end prints out both the maximum and minimum of\n",
    "the numbers instead of the average."
   ]
  },
  {
   "cell_type": "code",
   "execution_count": 7,
   "id": "a0866a42",
   "metadata": {},
   "outputs": [
    {
     "data": {
      "text/plain": [
       "3.0"
      ]
     },
     "execution_count": 7,
     "metadata": {},
     "output_type": "execute_result"
    }
   ],
   "source": [
    "min(numList)"
   ]
  },
  {
   "cell_type": "code",
   "execution_count": 8,
   "id": "e4eb2e2f",
   "metadata": {},
   "outputs": [
    {
     "data": {
      "text/plain": [
       "7.0"
      ]
     },
     "execution_count": 8,
     "metadata": {},
     "output_type": "execute_result"
    }
   ],
   "source": [
    "max(numList)"
   ]
  },
  {
   "cell_type": "code",
   "execution_count": 9,
   "id": "93633713",
   "metadata": {},
   "outputs": [
    {
     "name": "stdout",
     "output_type": "stream",
     "text": [
      "What is the next number?\n",
      "3\n",
      "What is the next number?\n",
      "9\n",
      "What is the next number?\n",
      "4\n",
      "What is the next number?\n",
      "done\n",
      "The max is: 9.0, the min is: 3.0\n"
     ]
    }
   ],
   "source": [
    "isDone = False\n",
    "numList = []\n",
    "\n",
    "while not isDone:\n",
    "    number = input(\"What is the next number?\\n\")\n",
    "    if number == \"done\":\n",
    "        isDone = True\n",
    "    else:\n",
    "        try:\n",
    "            number = float(number)\n",
    "            numList.append(number)\n",
    "        except:\n",
    "            print(\"That is not a number. Please enter a number.\")\n",
    "# total = sum(numList)\n",
    "\n",
    "print(f\"The max is: {max(numList)}, the min is: {min(numList)}\")"
   ]
  },
  {
   "cell_type": "code",
   "execution_count": 10,
   "id": "3667ae9a",
   "metadata": {},
   "outputs": [
    {
     "name": "stdout",
     "output_type": "stream",
     "text": [
      "What is the next number?\n",
      "8\n",
      "What is the next number?\n",
      "9\n",
      "What is the next number?\n",
      "1\n",
      "What is the next number?\n",
      "6\n",
      "What is the next number?\n",
      "10\n",
      "What is the next number?\n",
      "2\n",
      "What is the next number?\n",
      "4\n",
      "What is the next number?\n",
      "7\n",
      "What is the next number?\n",
      "done\n",
      "The min is: 1.0, the max is: 10.0\n"
     ]
    }
   ],
   "source": [
    "isDone = False\n",
    "maxNum = None\n",
    "minNum = None\n",
    "\n",
    "while not isDone:\n",
    "    number = input(\"What is the next number?\\n\")\n",
    "    if number == \"done\":\n",
    "        isDone = True\n",
    "    else:\n",
    "        try:\n",
    "            number = float(number)\n",
    "            if maxNum == None:\n",
    "                maxNum = number\n",
    "            elif maxNum < number:\n",
    "                maxNum = number\n",
    "            \n",
    "            if minNum == None:\n",
    "                minNum = number\n",
    "            elif minNum > number:\n",
    "                minNum = number\n",
    "        except:\n",
    "            print(\"That is not a number. Please enter a number.\")\n",
    "print(f\"The min is: {minNum}, the max is: {maxNum}\")"
   ]
  },
  {
   "cell_type": "markdown",
   "id": "d9dc2968",
   "metadata": {},
   "source": [
    "## Chapter 8\n",
    "## Exercise 6:\n",
    "Rewrite the program that prompts the user for a list of\n",
    "numbers and prints out the maximum and minimum of the numbers at\n",
    "the end when the user enters “done”. Write the program to store the\n",
    "numbers the user enters in a list and use the max() and min() functions to\n",
    "compute the maximum and minimum numbers after the loop completes.\n"
   ]
  },
  {
   "cell_type": "code",
   "execution_count": 11,
   "id": "9c34fb44",
   "metadata": {},
   "outputs": [
    {
     "name": "stdout",
     "output_type": "stream",
     "text": [
      "What is the next number?\n",
      "7\n",
      "What is the next number?\n",
      "5\n",
      "What is the next number?\n",
      "7\n",
      "What is the next number?\n",
      "9\n",
      "What is the next number?\n",
      "20\n",
      "What is the next number?\n",
      "55\n",
      "What is the next number?\n",
      "7\n",
      "What is the next number?\n",
      "6\n",
      "What is the next number?\n",
      "1\n",
      "What is the next number?\n",
      "0\n",
      "What is the next number?\n",
      "done\n",
      "The max is: 55.0, the min is: 0.0\n"
     ]
    }
   ],
   "source": [
    "isDone = False\n",
    "numList = []\n",
    "\n",
    "while not isDone:\n",
    "    number = input(\"What is the next number?\\n\")\n",
    "    if number == \"done\":\n",
    "        isDone = True\n",
    "    else:\n",
    "        try:\n",
    "            number = float(number)\n",
    "            numList.append(number)\n",
    "        except:\n",
    "            print(\"That is not a number. Please enter a number.\")\n",
    "# total = sum(numList)\n",
    "\n",
    "print(f\"The max is: {max(numList)}, the min is: {min(numList)}\")"
   ]
  },
  {
   "cell_type": "markdown",
   "id": "d4413a61",
   "metadata": {},
   "source": []
  }
 ],
 "metadata": {
  "kernelspec": {
   "display_name": "Python 3 (ipykernel)",
   "language": "python",
   "name": "python3"
  },
  "language_info": {
   "codemirror_mode": {
    "name": "ipython",
    "version": 3
   },
   "file_extension": ".py",
   "mimetype": "text/x-python",
   "name": "python",
   "nbconvert_exporter": "python",
   "pygments_lexer": "ipython3",
   "version": "3.11.5"
  }
 },
 "nbformat": 4,
 "nbformat_minor": 5
}
