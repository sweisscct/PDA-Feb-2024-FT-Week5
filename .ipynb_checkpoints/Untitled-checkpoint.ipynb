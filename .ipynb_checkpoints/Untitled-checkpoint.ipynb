{
 "cells": [
  {
   "cell_type": "markdown",
   "id": "9406d7d9",
   "metadata": {},
   "source": [
    "Code from exercises"
   ]
  },
  {
   "cell_type": "code",
   "execution_count": 1,
   "id": "7e92480d",
   "metadata": {},
   "outputs": [
    {
     "name": "stdout",
     "output_type": "stream",
     "text": [
      "What is the next number?\n",
      "done\n",
      "The min is: None, the max is: None\n"
     ]
    }
   ],
   "source": [
    "isDone = False\n",
    "maxNum = None\n",
    "minNum = None\n",
    "\n",
    "while not isDone:\n",
    "    number = input(\"What is the next number?\\n\")\n",
    "    if number == \"done\":\n",
    "        isDone = True\n",
    "    else:\n",
    "        try:\n",
    "            number = float(number)\n",
    "            if maxNum == None:\n",
    "                maxNum = number\n",
    "            elif maxNum < number:\n",
    "                maxNum = number\n",
    "            \n",
    "            if minNum == None:\n",
    "                minNum = number\n",
    "            elif minNum > number:\n",
    "                minNum = number\n",
    "        except:\n",
    "            print(\"That is not a number. Please enter a number.\")\n",
    "print(f\"The min is: {minNum}, the max is: {maxNum}\")"
   ]
  },
  {
   "cell_type": "code",
   "execution_count": 5,
   "id": "4cf2251f",
   "metadata": {},
   "outputs": [
    {
     "name": "stdout",
     "output_type": "stream",
     "text": [
      "What is the next number?\n",
      "5\n",
      "What is the next number?\n",
      "7\n",
      "What is the next number?\n",
      "3\n",
      "What is the next number?\n",
      "5\n",
      "What is the next number?\n",
      "done\n",
      "The min is: 3, the max is: 7\n"
     ]
    }
   ],
   "source": [
    "maxNum = None\n",
    "minNum = None\n",
    "\n",
    "def updateMax(number, maxNum):\n",
    "    if maxNum == None:\n",
    "        return number\n",
    "    elif maxNum < number:\n",
    "        return number\n",
    "    else:\n",
    "        return maxNum\n",
    "\n",
    "def updateMin(number, minNum):\n",
    "    if minNum == None:\n",
    "        return number\n",
    "    elif minNum > number:\n",
    "        return number\n",
    "    else:\n",
    "        return minNum\n",
    "\n",
    "def checkValidInput(number):\n",
    "    if number == \"done\":\n",
    "        isDone = True\n",
    "        return True\n",
    "    try:\n",
    "        number = float(number)\n",
    "        return True\n",
    "    except:\n",
    "        return False\n",
    "\n",
    "\n",
    "isDone = False\n",
    "while not isDone:\n",
    "    number = input(\"What is the next number?\\n\")\n",
    "    if not checkValidInput(number):\n",
    "        print(\"That is not a number. Please enter a number.\")\n",
    "        continue\n",
    "    elif number == \"done\":\n",
    "        isDone = True\n",
    "    else:\n",
    "            maxNum = updateMax(number, maxNum)\n",
    "            minNum = updateMin(number, minNum)\n",
    "            \n",
    "print(f\"The min is: {minNum}, the max is: {maxNum}\")"
   ]
  },
  {
   "cell_type": "code",
   "execution_count": 7,
   "id": "b454d796",
   "metadata": {},
   "outputs": [],
   "source": [
    "from sklearn.cluster import KMeans\n",
    "import matplotlib.pyplot as plt"
   ]
  },
  {
   "cell_type": "code",
   "execution_count": null,
   "id": "11cd3a7a",
   "metadata": {},
   "outputs": [],
   "source": [
    "# def experimentalKmean(k):\n",
    "#     KMeans(k)\n",
    "#     kmeans = kemans.fit_predict(df)\n",
    "#     plt.scatter(\n",
    "        \n",
    "#     )"
   ]
  }
 ],
 "metadata": {
  "kernelspec": {
   "display_name": "Python 3 (ipykernel)",
   "language": "python",
   "name": "python3"
  },
  "language_info": {
   "codemirror_mode": {
    "name": "ipython",
    "version": 3
   },
   "file_extension": ".py",
   "mimetype": "text/x-python",
   "name": "python",
   "nbconvert_exporter": "python",
   "pygments_lexer": "ipython3",
   "version": "3.11.5"
  }
 },
 "nbformat": 4,
 "nbformat_minor": 5
}
