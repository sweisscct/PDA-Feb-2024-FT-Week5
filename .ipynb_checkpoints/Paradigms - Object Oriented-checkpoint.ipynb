{
 "cells": [
  {
   "cell_type": "markdown",
   "id": "ede6ae36",
   "metadata": {},
   "source": [
    "Code from exercises"
   ]
  },
  {
   "cell_type": "code",
   "execution_count": 1,
   "id": "8ba8c015",
   "metadata": {},
   "outputs": [
    {
     "name": "stdout",
     "output_type": "stream",
     "text": [
      "What is the next number?\n",
      "done\n",
      "The min is: None, the max is: None\n"
     ]
    }
   ],
   "source": [
    "isDone = False\n",
    "maxNum = None\n",
    "minNum = None\n",
    "\n",
    "while not isDone:\n",
    "    number = input(\"What is the next number?\\n\")\n",
    "    if number == \"done\":\n",
    "        isDone = True\n",
    "    else:\n",
    "        try:\n",
    "            number = float(number)\n",
    "            if maxNum == None:\n",
    "                maxNum = number\n",
    "            elif maxNum < number:\n",
    "                maxNum = number\n",
    "            \n",
    "            if minNum == None:\n",
    "                minNum = number\n",
    "            elif minNum > number:\n",
    "                minNum = number\n",
    "        except:\n",
    "            print(\"That is not a number. Please enter a number.\")\n",
    "print(f\"The min is: {minNum}, the max is: {maxNum}\")"
   ]
  },
  {
   "cell_type": "code",
   "execution_count": 5,
   "id": "aa6bc0cf",
   "metadata": {},
   "outputs": [
    {
     "name": "stdout",
     "output_type": "stream",
     "text": [
      "What is the next number?\n",
      "5\n",
      "What is the next number?\n",
      "7\n",
      "What is the next number?\n",
      "3\n",
      "What is the next number?\n",
      "5\n",
      "What is the next number?\n",
      "done\n",
      "The min is: 3, the max is: 7\n"
     ]
    }
   ],
   "source": [
    "maxNum = None\n",
    "minNum = None\n",
    "\n",
    "def updateMax(number, maxNum):\n",
    "    if maxNum == None:\n",
    "        return number\n",
    "    elif maxNum < number:\n",
    "        return number\n",
    "    else:\n",
    "        return maxNum\n",
    "\n",
    "def updateMin(number, minNum):\n",
    "    if minNum == None:\n",
    "        return number\n",
    "    elif minNum > number:\n",
    "        return number\n",
    "    else:\n",
    "        return minNum\n",
    "\n",
    "def checkValidInput(number):\n",
    "    if number == \"done\":\n",
    "        isDone = True\n",
    "        return True\n",
    "    try:\n",
    "        number = float(number)\n",
    "        return True\n",
    "    except:\n",
    "        return False\n",
    "\n",
    "\n",
    "isDone = False\n",
    "while not isDone:\n",
    "    number = input(\"What is the next number?\\n\")\n",
    "    if not checkValidInput(number):\n",
    "        print(\"That is not a number. Please enter a number.\")\n",
    "        continue\n",
    "    elif number == \"done\":\n",
    "        isDone = True\n",
    "    else:\n",
    "            maxNum = updateMax(number, maxNum)\n",
    "            minNum = updateMin(number, minNum)\n",
    "            \n",
    "print(f\"The min is: {minNum}, the max is: {maxNum}\")"
   ]
  },
  {
   "cell_type": "code",
   "execution_count": 7,
   "id": "aa929d98",
   "metadata": {},
   "outputs": [],
   "source": [
    "from sklearn.cluster import KMeans\n",
    "import matplotlib.pyplot as plt"
   ]
  },
  {
   "cell_type": "code",
   "execution_count": null,
   "id": "7b6d19bc",
   "metadata": {},
   "outputs": [],
   "source": [
    "# def experimentalKmean(k):\n",
    "#     KMeans(k)\n",
    "#     kmeans = kemans.fit_predict(df)\n",
    "#     plt.scatter(\n",
    "        \n",
    "#     )"
   ]
  },
  {
   "cell_type": "code",
   "execution_count": null,
   "id": "aea67579",
   "metadata": {},
   "outputs": [],
   "source": [
    "# max(numList)"
   ]
  },
  {
   "cell_type": "markdown",
   "id": "6cdac556",
   "metadata": {},
   "source": [
    "## Classes"
   ]
  },
  {
   "cell_type": "code",
   "execution_count": 8,
   "id": "d273e37d",
   "metadata": {},
   "outputs": [],
   "source": [
    "class Rectangle():\n",
    "    length = 5\n",
    "    width = 3"
   ]
  },
  {
   "cell_type": "code",
   "execution_count": 9,
   "id": "1450b791",
   "metadata": {},
   "outputs": [],
   "source": [
    "rect1 = Rectangle()"
   ]
  },
  {
   "cell_type": "code",
   "execution_count": 10,
   "id": "58c809e6",
   "metadata": {},
   "outputs": [
    {
     "data": {
      "text/plain": [
       "5"
      ]
     },
     "execution_count": 10,
     "metadata": {},
     "output_type": "execute_result"
    }
   ],
   "source": [
    "rect1.length"
   ]
  },
  {
   "cell_type": "code",
   "execution_count": 11,
   "id": "31d6913e",
   "metadata": {},
   "outputs": [],
   "source": [
    "rect2 = Rectangle()"
   ]
  },
  {
   "cell_type": "code",
   "execution_count": 12,
   "id": "011b44c5",
   "metadata": {},
   "outputs": [
    {
     "data": {
      "text/plain": [
       "5"
      ]
     },
     "execution_count": 12,
     "metadata": {},
     "output_type": "execute_result"
    }
   ],
   "source": [
    "rect2.length"
   ]
  },
  {
   "cell_type": "code",
   "execution_count": 13,
   "id": "3817722f",
   "metadata": {},
   "outputs": [],
   "source": [
    "rect2.length = 10"
   ]
  },
  {
   "cell_type": "code",
   "execution_count": 14,
   "id": "5b7e95e7",
   "metadata": {},
   "outputs": [
    {
     "data": {
      "text/plain": [
       "10"
      ]
     },
     "execution_count": 14,
     "metadata": {},
     "output_type": "execute_result"
    }
   ],
   "source": [
    "rect2.length "
   ]
  },
  {
   "cell_type": "code",
   "execution_count": 15,
   "id": "96771790",
   "metadata": {},
   "outputs": [
    {
     "data": {
      "text/plain": [
       "5"
      ]
     },
     "execution_count": 15,
     "metadata": {},
     "output_type": "execute_result"
    }
   ],
   "source": [
    "rect1.length"
   ]
  },
  {
   "cell_type": "code",
   "execution_count": 16,
   "id": "ff323760",
   "metadata": {},
   "outputs": [],
   "source": [
    "class Rectangle():\n",
    "    length = 5\n",
    "    width = 3\n",
    "    # constructor - this defines the properties of the object when\n",
    "    # it is first made\n",
    "    # it is a function that runs when a new instance/object is created\n",
    "    def __init__(self, length, width): # NOTE: 2 _ before and after\n",
    "        print(\"Created a new rectangle!!\")\n",
    "        self.length = length\n",
    "        self.width = width\n"
   ]
  },
  {
   "cell_type": "code",
   "execution_count": 17,
   "id": "c94f2bab",
   "metadata": {},
   "outputs": [
    {
     "ename": "TypeError",
     "evalue": "Rectangle.__init__() missing 2 required positional arguments: 'length' and 'width'",
     "output_type": "error",
     "traceback": [
      "\u001b[1;31m---------------------------------------------------------------------------\u001b[0m",
      "\u001b[1;31mTypeError\u001b[0m                                 Traceback (most recent call last)",
      "Cell \u001b[1;32mIn[17], line 1\u001b[0m\n\u001b[1;32m----> 1\u001b[0m rect3 \u001b[38;5;241m=\u001b[39m Rectangle()\n",
      "\u001b[1;31mTypeError\u001b[0m: Rectangle.__init__() missing 2 required positional arguments: 'length' and 'width'"
     ]
    }
   ],
   "source": [
    "#rect3 = Rectangle()"
   ]
  },
  {
   "cell_type": "code",
   "execution_count": 18,
   "id": "b8ede428",
   "metadata": {},
   "outputs": [
    {
     "name": "stdout",
     "output_type": "stream",
     "text": [
      "Created a new rectangle!!\n"
     ]
    }
   ],
   "source": [
    "rect3 = Rectangle(7, 4)"
   ]
  },
  {
   "cell_type": "code",
   "execution_count": 19,
   "id": "444e193d",
   "metadata": {},
   "outputs": [
    {
     "data": {
      "text/plain": [
       "7"
      ]
     },
     "execution_count": 19,
     "metadata": {},
     "output_type": "execute_result"
    }
   ],
   "source": [
    "rect3.length"
   ]
  },
  {
   "cell_type": "code",
   "execution_count": 20,
   "id": "39e70a6c",
   "metadata": {},
   "outputs": [],
   "source": [
    "class Rectangle():\n",
    "    length = 5\n",
    "    width = 3\n",
    "    # constructor - this defines the properties of the object when\n",
    "    # it is first made\n",
    "    # it is a function that runs when a new instance/object is created\n",
    "    def __init__(self, length, width): # NOTE: 2 _ before and after\n",
    "        print(\"Created a new rectangle!!\")\n",
    "        self.length = length\n",
    "        self.width = width\n",
    "    def calculateArea(self):\n",
    "        return self.length * self.width"
   ]
  },
  {
   "cell_type": "code",
   "execution_count": 21,
   "id": "505674ed",
   "metadata": {},
   "outputs": [
    {
     "name": "stdout",
     "output_type": "stream",
     "text": [
      "Created a new rectangle!!\n"
     ]
    }
   ],
   "source": [
    "rect4 = Rectangle(7, 4)"
   ]
  },
  {
   "cell_type": "code",
   "execution_count": 22,
   "id": "400735ae",
   "metadata": {},
   "outputs": [
    {
     "data": {
      "text/plain": [
       "28"
      ]
     },
     "execution_count": 22,
     "metadata": {},
     "output_type": "execute_result"
    }
   ],
   "source": [
    "rect4.calculateArea()"
   ]
  },
  {
   "cell_type": "code",
   "execution_count": 23,
   "id": "86636dd8",
   "metadata": {},
   "outputs": [
    {
     "name": "stdout",
     "output_type": "stream",
     "text": [
      "Created a new rectangle!!\n"
     ]
    }
   ],
   "source": [
    "rect5 = Rectangle(5, 8)"
   ]
  },
  {
   "cell_type": "code",
   "execution_count": 24,
   "id": "330cc252",
   "metadata": {},
   "outputs": [
    {
     "data": {
      "text/plain": [
       "40"
      ]
     },
     "execution_count": 24,
     "metadata": {},
     "output_type": "execute_result"
    }
   ],
   "source": [
    "rect5.calculateArea()"
   ]
  },
  {
   "cell_type": "code",
   "execution_count": 26,
   "id": "c64db7a5",
   "metadata": {},
   "outputs": [],
   "source": [
    "class Rectangle():\n",
    "    length = 5\n",
    "    width = 3\n",
    "    # constructor - this defines the properties of the object when\n",
    "    # it is first made\n",
    "    # it is a function that runs when a new instance/object is created\n",
    "    def __init__(self, length=5, width=9): # NOTE: 2 _ before and after\n",
    "        print(\"Created a new rectangle!!\")\n",
    "        self.length = length\n",
    "        self.width = width\n",
    "    def calculateArea(self):\n",
    "        return self.length * self.width"
   ]
  },
  {
   "cell_type": "code",
   "execution_count": 27,
   "id": "5b6c6f75",
   "metadata": {},
   "outputs": [
    {
     "name": "stdout",
     "output_type": "stream",
     "text": [
      "Created a new rectangle!!\n"
     ]
    }
   ],
   "source": [
    "rect6 = Rectangle(width=2)"
   ]
  },
  {
   "cell_type": "code",
   "execution_count": 28,
   "id": "40de1fb7",
   "metadata": {},
   "outputs": [
    {
     "data": {
      "text/plain": [
       "10"
      ]
     },
     "execution_count": 28,
     "metadata": {},
     "output_type": "execute_result"
    }
   ],
   "source": [
    "rect6.calculateArea()"
   ]
  },
  {
   "cell_type": "code",
   "execution_count": 29,
   "id": "7cf785d0",
   "metadata": {},
   "outputs": [
    {
     "data": {
      "text/plain": [
       "__main__.Rectangle"
      ]
     },
     "execution_count": 29,
     "metadata": {},
     "output_type": "execute_result"
    }
   ],
   "source": [
    "type(rect6)"
   ]
  },
  {
   "cell_type": "code",
   "execution_count": 30,
   "id": "6cb40930",
   "metadata": {},
   "outputs": [
    {
     "name": "stdout",
     "output_type": "stream",
     "text": [
      "<__main__.Rectangle object at 0x000002079013BBD0>\n"
     ]
    }
   ],
   "source": [
    "print(rect6)"
   ]
  },
  {
   "cell_type": "code",
   "execution_count": 37,
   "id": "77086a98",
   "metadata": {},
   "outputs": [],
   "source": [
    "class Rectangle():\n",
    "    length = 5\n",
    "    width = 3\n",
    "    # constructor - this defines the properties of the object when\n",
    "    # it is first made\n",
    "    # it is a function that runs when a new instance/object is created\n",
    "    def __init__(self, length=5, width=9): # NOTE: 2 _ before and after\n",
    "        print(\"Created a new rectangle!!\")\n",
    "        self.length = length\n",
    "        self.width = width\n",
    "    def calculateArea(self):\n",
    "        return self.length * self.width\n",
    "    def __str__(self): # to string method\n",
    "        return f\"This rectangle has a length of {self.length} and a width of {self.width}\""
   ]
  },
  {
   "cell_type": "code",
   "execution_count": 35,
   "id": "0b79fa5b",
   "metadata": {},
   "outputs": [
    {
     "name": "stdout",
     "output_type": "stream",
     "text": [
      "Created a new rectangle!!\n"
     ]
    }
   ],
   "source": [
    "rect7 = Rectangle(10, 20)"
   ]
  },
  {
   "cell_type": "code",
   "execution_count": 36,
   "id": "04682239",
   "metadata": {},
   "outputs": [
    {
     "name": "stdout",
     "output_type": "stream",
     "text": [
      "This rectangle has a length of 10 and a width of 20\n"
     ]
    }
   ],
   "source": [
    "print(rect7)"
   ]
  },
  {
   "cell_type": "code",
   "execution_count": 51,
   "id": "da8ebf7a",
   "metadata": {},
   "outputs": [],
   "source": [
    "class Shape():\n",
    "    def __init__(self, color, isFilled):\n",
    "        self.color = color\n",
    "        self.isFilled = isFilled\n",
    "    def printColor():\n",
    "        print(f\"This shape has the color: {self.color}\")"
   ]
  },
  {
   "cell_type": "code",
   "execution_count": 54,
   "id": "8cc5663e",
   "metadata": {},
   "outputs": [],
   "source": [
    "class Rectangle(Shape):\n",
    "    length = 5\n",
    "    width = 3\n",
    "    # constructor - this defines the properties of the object when\n",
    "    # it is first made\n",
    "    # it is a function that runs when a new instance/object is created\n",
    "    def __init__(self, length=5, width=9, color=\"yellow\", isFilled=True): # NOTE: 2 _ before and after\n",
    "        print(\"Created a new rectangle!!\")\n",
    "        self.length = length\n",
    "        self.width = width\n",
    "        Shape.__init__(self, color, isFilled)\n",
    "#         super(Shape, color, isFilled)\n",
    "    def calculateArea(self):\n",
    "        return self.length * self.width\n",
    "    def __str__(self): # to string method\n",
    "        return f\"This rectangle has a length of {self.length} and a width of {self.width}\""
   ]
  },
  {
   "cell_type": "code",
   "execution_count": 55,
   "id": "382a6d5a",
   "metadata": {},
   "outputs": [
    {
     "name": "stdout",
     "output_type": "stream",
     "text": [
      "Created a new rectangle!!\n"
     ]
    },
    {
     "ename": "TypeError",
     "evalue": "super() expected at most 2 arguments, got 3",
     "output_type": "error",
     "traceback": [
      "\u001b[1;31m---------------------------------------------------------------------------\u001b[0m",
      "\u001b[1;31mTypeError\u001b[0m                                 Traceback (most recent call last)",
      "Cell \u001b[1;32mIn[55], line 1\u001b[0m\n\u001b[1;32m----> 1\u001b[0m rect8 \u001b[38;5;241m=\u001b[39m Rectangle()\n",
      "Cell \u001b[1;32mIn[54], line 12\u001b[0m, in \u001b[0;36mRectangle.__init__\u001b[1;34m(self, length, width, color, isFilled)\u001b[0m\n\u001b[0;32m     10\u001b[0m         \u001b[38;5;28mself\u001b[39m\u001b[38;5;241m.\u001b[39mwidth \u001b[38;5;241m=\u001b[39m width\n\u001b[0;32m     11\u001b[0m \u001b[38;5;66;03m#         Shape.__init__(self, color, isFilled)\u001b[39;00m\n\u001b[1;32m---> 12\u001b[0m         \u001b[38;5;28msuper\u001b[39m(Shape, color, isFilled)\n",
      "\u001b[1;31mTypeError\u001b[0m: super() expected at most 2 arguments, got 3"
     ]
    }
   ],
   "source": [
    "rect8 = Rectangle()"
   ]
  },
  {
   "cell_type": "code",
   "execution_count": 49,
   "id": "12fe11a2",
   "metadata": {},
   "outputs": [
    {
     "data": {
      "text/plain": [
       "'yellow'"
      ]
     },
     "execution_count": 49,
     "metadata": {},
     "output_type": "execute_result"
    }
   ],
   "source": [
    "rect8.color"
   ]
  },
  {
   "cell_type": "code",
   "execution_count": 50,
   "id": "2ba0c8bf",
   "metadata": {},
   "outputs": [
    {
     "data": {
      "text/plain": [
       "__main__.Rectangle"
      ]
     },
     "execution_count": 50,
     "metadata": {},
     "output_type": "execute_result"
    }
   ],
   "source": [
    "type(rect8)"
   ]
  },
  {
   "cell_type": "code",
   "execution_count": 53,
   "id": "e4ec3735",
   "metadata": {},
   "outputs": [
    {
     "ename": "AttributeError",
     "evalue": "'Rectangle' object has no attribute 'printColor'",
     "output_type": "error",
     "traceback": [
      "\u001b[1;31m---------------------------------------------------------------------------\u001b[0m",
      "\u001b[1;31mAttributeError\u001b[0m                            Traceback (most recent call last)",
      "Cell \u001b[1;32mIn[53], line 1\u001b[0m\n\u001b[1;32m----> 1\u001b[0m rect8\u001b[38;5;241m.\u001b[39mprintColor()\n",
      "\u001b[1;31mAttributeError\u001b[0m: 'Rectangle' object has no attribute 'printColor'"
     ]
    }
   ],
   "source": [
    "rect8.printColor()"
   ]
  },
  {
   "cell_type": "code",
   "execution_count": null,
   "id": "1b2677b4",
   "metadata": {},
   "outputs": [],
   "source": []
  }
 ],
 "metadata": {
  "kernelspec": {
   "display_name": "Python 3 (ipykernel)",
   "language": "python",
   "name": "python3"
  },
  "language_info": {
   "codemirror_mode": {
    "name": "ipython",
    "version": 3
   },
   "file_extension": ".py",
   "mimetype": "text/x-python",
   "name": "python",
   "nbconvert_exporter": "python",
   "pygments_lexer": "ipython3",
   "version": "3.11.5"
  }
 },
 "nbformat": 4,
 "nbformat_minor": 5
}
