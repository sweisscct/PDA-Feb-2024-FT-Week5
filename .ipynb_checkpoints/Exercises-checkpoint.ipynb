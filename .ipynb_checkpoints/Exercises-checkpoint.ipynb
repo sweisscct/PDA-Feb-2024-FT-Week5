{
 "cells": [
  {
   "cell_type": "markdown",
   "id": "622c33b6",
   "metadata": {},
   "source": [
    "## Homework\n",
    "- Ch.5 Exercises\n",
    "- Ch. 9 Exercise 6"
   ]
  },
  {
   "cell_type": "markdown",
   "id": "015e3ca7",
   "metadata": {},
   "source": [
    "## Chapter 5\n",
    "## Exercise 1: \n",
    "Write a program which repeatedly reads numbers until the\n",
    "user enters “done”. Once “done” is entered, print out the total, count,\n",
    "and average of the numbers. If the user enters anything other than a\n",
    "number, detect their mistake using try and except and print an error\n",
    "message and skip to the next number."
   ]
  },
  {
   "cell_type": "code",
   "execution_count": null,
   "id": "b17899cf",
   "metadata": {},
   "outputs": [],
   "source": [
    "isDone = False\n",
    "numList = []\n",
    "\n",
    "while not isDone:\n",
    "    number = input(\"What is the next number?\\n\")\n",
    "    if number == \"done\":\n",
    "        isDone = True\n",
    "    else:\n",
    "        try:\n",
    "            number = float(number)\n",
    "            numList.append(number)\n",
    "        except:\n",
    "            print(\"That is not a number. Please enter a number.\")\n",
    "# total = sum(numList)\n",
    "\n",
    "total = 0\n",
    "count = 0\n",
    "for num in numList:\n",
    "    total += num\n",
    "    count += 1\n",
    "print(f\"The total is: {total}, the count is: {count} and the average is: {total/count}\")"
   ]
  }
 ],
 "metadata": {
  "kernelspec": {
   "display_name": "Python 3 (ipykernel)",
   "language": "python",
   "name": "python3"
  },
  "language_info": {
   "codemirror_mode": {
    "name": "ipython",
    "version": 3
   },
   "file_extension": ".py",
   "mimetype": "text/x-python",
   "name": "python",
   "nbconvert_exporter": "python",
   "pygments_lexer": "ipython3",
   "version": "3.11.5"
  }
 },
 "nbformat": 4,
 "nbformat_minor": 5
}
