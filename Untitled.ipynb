{
 "cells": [
  {
   "cell_type": "markdown",
   "id": "a1ae2660",
   "metadata": {},
   "source": [
    "Code from exercises"
   ]
  },
  {
   "cell_type": "code",
   "execution_count": 1,
   "id": "c443c607",
   "metadata": {},
   "outputs": [
    {
     "name": "stdout",
     "output_type": "stream",
     "text": [
      "What is the next number?\n",
      "done\n",
      "The min is: None, the max is: None\n"
     ]
    }
   ],
   "source": [
    "isDone = False\n",
    "maxNum = None\n",
    "minNum = None\n",
    "\n",
    "while not isDone:\n",
    "    number = input(\"What is the next number?\\n\")\n",
    "    if number == \"done\":\n",
    "        isDone = True\n",
    "    else:\n",
    "        try:\n",
    "            number = float(number)\n",
    "            if maxNum == None:\n",
    "                maxNum = number\n",
    "            elif maxNum < number:\n",
    "                maxNum = number\n",
    "            \n",
    "            if minNum == None:\n",
    "                minNum = number\n",
    "            elif minNum > number:\n",
    "                minNum = number\n",
    "        except:\n",
    "            print(\"That is not a number. Please enter a number.\")\n",
    "print(f\"The min is: {minNum}, the max is: {maxNum}\")"
   ]
  },
  {
   "cell_type": "code",
   "execution_count": 5,
   "id": "4f051608",
   "metadata": {},
   "outputs": [
    {
     "name": "stdout",
     "output_type": "stream",
     "text": [
      "What is the next number?\n",
      "5\n",
      "What is the next number?\n",
      "7\n",
      "What is the next number?\n",
      "3\n",
      "What is the next number?\n",
      "5\n",
      "What is the next number?\n",
      "done\n",
      "The min is: 3, the max is: 7\n"
     ]
    }
   ],
   "source": [
    "maxNum = None\n",
    "minNum = None\n",
    "\n",
    "def updateMax(number, maxNum):\n",
    "    if maxNum == None:\n",
    "        return number\n",
    "    elif maxNum < number:\n",
    "        return number\n",
    "    else:\n",
    "        return maxNum\n",
    "\n",
    "def updateMin(number, minNum):\n",
    "    if minNum == None:\n",
    "        return number\n",
    "    elif minNum > number:\n",
    "        return number\n",
    "    else:\n",
    "        return minNum\n",
    "\n",
    "def checkValidInput(number):\n",
    "    if number == \"done\":\n",
    "        isDone = True\n",
    "        return True\n",
    "    try:\n",
    "        number = float(number)\n",
    "        return True\n",
    "    except:\n",
    "        return False\n",
    "\n",
    "\n",
    "isDone = False\n",
    "while not isDone:\n",
    "    number = input(\"What is the next number?\\n\")\n",
    "    if not checkValidInput(number):\n",
    "        print(\"That is not a number. Please enter a number.\")\n",
    "        continue\n",
    "    elif number == \"done\":\n",
    "        isDone = True\n",
    "    else:\n",
    "            maxNum = updateMax(number, maxNum)\n",
    "            minNum = updateMin(number, minNum)\n",
    "            \n",
    "print(f\"The min is: {minNum}, the max is: {maxNum}\")"
   ]
  },
  {
   "cell_type": "code",
   "execution_count": 7,
   "id": "9b485b7e",
   "metadata": {},
   "outputs": [],
   "source": [
    "from sklearn.cluster import KMeans\n",
    "import matplotlib.pyplot as plt"
   ]
  },
  {
   "cell_type": "code",
   "execution_count": null,
   "id": "308b7428",
   "metadata": {},
   "outputs": [],
   "source": [
    "# def experimentalKmean(k):\n",
    "#     KMeans(k)\n",
    "#     kmeans = kemans.fit_predict(df)\n",
    "#     plt.scatter(\n",
    "        \n",
    "#     )"
   ]
  },
  {
   "cell_type": "code",
   "execution_count": null,
   "id": "619caf9e",
   "metadata": {},
   "outputs": [],
   "source": [
    "# max(numList)"
   ]
  },
  {
   "cell_type": "markdown",
   "id": "fa4fa02d",
   "metadata": {},
   "source": [
    "## Classes"
   ]
  },
  {
   "cell_type": "code",
   "execution_count": 8,
   "id": "a921a2f4",
   "metadata": {},
   "outputs": [],
   "source": [
    "class Rectangle():\n",
    "    length = 5\n",
    "    width = 3"
   ]
  },
  {
   "cell_type": "code",
   "execution_count": 9,
   "id": "dd2651ec",
   "metadata": {},
   "outputs": [],
   "source": [
    "rect1 = Rectangle()"
   ]
  },
  {
   "cell_type": "code",
   "execution_count": 10,
   "id": "a3b52860",
   "metadata": {},
   "outputs": [
    {
     "data": {
      "text/plain": [
       "5"
      ]
     },
     "execution_count": 10,
     "metadata": {},
     "output_type": "execute_result"
    }
   ],
   "source": [
    "rect1.length"
   ]
  },
  {
   "cell_type": "code",
   "execution_count": 11,
   "id": "196ae721",
   "metadata": {},
   "outputs": [],
   "source": [
    "rect2 = Rectangle()"
   ]
  },
  {
   "cell_type": "code",
   "execution_count": 12,
   "id": "7e26c5d5",
   "metadata": {},
   "outputs": [
    {
     "data": {
      "text/plain": [
       "5"
      ]
     },
     "execution_count": 12,
     "metadata": {},
     "output_type": "execute_result"
    }
   ],
   "source": [
    "rect2.length"
   ]
  },
  {
   "cell_type": "code",
   "execution_count": 13,
   "id": "da18154a",
   "metadata": {},
   "outputs": [],
   "source": [
    "rect2.length = 10"
   ]
  },
  {
   "cell_type": "code",
   "execution_count": 14,
   "id": "a503a05e",
   "metadata": {},
   "outputs": [
    {
     "data": {
      "text/plain": [
       "10"
      ]
     },
     "execution_count": 14,
     "metadata": {},
     "output_type": "execute_result"
    }
   ],
   "source": [
    "rect2.length "
   ]
  },
  {
   "cell_type": "code",
   "execution_count": 15,
   "id": "753eea25",
   "metadata": {},
   "outputs": [
    {
     "data": {
      "text/plain": [
       "5"
      ]
     },
     "execution_count": 15,
     "metadata": {},
     "output_type": "execute_result"
    }
   ],
   "source": [
    "rect1.length"
   ]
  },
  {
   "cell_type": "code",
   "execution_count": 16,
   "id": "ad2d7ac6",
   "metadata": {},
   "outputs": [],
   "source": [
    "class Rectangle():\n",
    "    length = 5\n",
    "    width = 3\n",
    "    # constructor - this defines the properties of the object when\n",
    "    # it is first made\n",
    "    # it is a function that runs when a new instance/object is created\n",
    "    def __init__(self, length, width): # NOTE: 2 _ before and after\n",
    "        print(\"Created a new rectangle!!\")\n",
    "        self.length = length\n",
    "        self.width = width\n"
   ]
  },
  {
   "cell_type": "code",
   "execution_count": 17,
   "id": "3e85aa11",
   "metadata": {},
   "outputs": [
    {
     "ename": "TypeError",
     "evalue": "Rectangle.__init__() missing 2 required positional arguments: 'length' and 'width'",
     "output_type": "error",
     "traceback": [
      "\u001b[1;31m---------------------------------------------------------------------------\u001b[0m",
      "\u001b[1;31mTypeError\u001b[0m                                 Traceback (most recent call last)",
      "Cell \u001b[1;32mIn[17], line 1\u001b[0m\n\u001b[1;32m----> 1\u001b[0m rect3 \u001b[38;5;241m=\u001b[39m Rectangle()\n",
      "\u001b[1;31mTypeError\u001b[0m: Rectangle.__init__() missing 2 required positional arguments: 'length' and 'width'"
     ]
    }
   ],
   "source": [
    "#rect3 = Rectangle()"
   ]
  },
  {
   "cell_type": "code",
   "execution_count": 18,
   "id": "ffa4947a",
   "metadata": {},
   "outputs": [
    {
     "name": "stdout",
     "output_type": "stream",
     "text": [
      "Created a new rectangle!!\n"
     ]
    }
   ],
   "source": [
    "rect3 = Rectangle(7, 4)"
   ]
  },
  {
   "cell_type": "code",
   "execution_count": 19,
   "id": "7477239d",
   "metadata": {},
   "outputs": [
    {
     "data": {
      "text/plain": [
       "7"
      ]
     },
     "execution_count": 19,
     "metadata": {},
     "output_type": "execute_result"
    }
   ],
   "source": [
    "rect3.length"
   ]
  },
  {
   "cell_type": "code",
   "execution_count": 20,
   "id": "8ca54332",
   "metadata": {},
   "outputs": [],
   "source": [
    "class Rectangle():\n",
    "    length = 5\n",
    "    width = 3\n",
    "    # constructor - this defines the properties of the object when\n",
    "    # it is first made\n",
    "    # it is a function that runs when a new instance/object is created\n",
    "    def __init__(self, length, width): # NOTE: 2 _ before and after\n",
    "        print(\"Created a new rectangle!!\")\n",
    "        self.length = length\n",
    "        self.width = width\n",
    "    def calculateArea(self):\n",
    "        return self.length * self.width"
   ]
  },
  {
   "cell_type": "code",
   "execution_count": 21,
   "id": "a6e96802",
   "metadata": {},
   "outputs": [
    {
     "name": "stdout",
     "output_type": "stream",
     "text": [
      "Created a new rectangle!!\n"
     ]
    }
   ],
   "source": [
    "rect4 = Rectangle(7, 4)"
   ]
  },
  {
   "cell_type": "code",
   "execution_count": 22,
   "id": "7c58b6ee",
   "metadata": {},
   "outputs": [
    {
     "data": {
      "text/plain": [
       "28"
      ]
     },
     "execution_count": 22,
     "metadata": {},
     "output_type": "execute_result"
    }
   ],
   "source": [
    "rect4.calculateArea()"
   ]
  },
  {
   "cell_type": "code",
   "execution_count": 23,
   "id": "91b7647c",
   "metadata": {},
   "outputs": [
    {
     "name": "stdout",
     "output_type": "stream",
     "text": [
      "Created a new rectangle!!\n"
     ]
    }
   ],
   "source": [
    "rect5 = Rectangle(5, 8)"
   ]
  },
  {
   "cell_type": "code",
   "execution_count": 24,
   "id": "db67ef2a",
   "metadata": {},
   "outputs": [
    {
     "data": {
      "text/plain": [
       "40"
      ]
     },
     "execution_count": 24,
     "metadata": {},
     "output_type": "execute_result"
    }
   ],
   "source": [
    "rect5.calculateArea()"
   ]
  },
  {
   "cell_type": "code",
   "execution_count": 26,
   "id": "b5e72a8b",
   "metadata": {},
   "outputs": [],
   "source": [
    "class Rectangle():\n",
    "    length = 5\n",
    "    width = 3\n",
    "    # constructor - this defines the properties of the object when\n",
    "    # it is first made\n",
    "    # it is a function that runs when a new instance/object is created\n",
    "    def __init__(self, length=5, width=9): # NOTE: 2 _ before and after\n",
    "        print(\"Created a new rectangle!!\")\n",
    "        self.length = length\n",
    "        self.width = width\n",
    "    def calculateArea(self):\n",
    "        return self.length * self.width"
   ]
  },
  {
   "cell_type": "code",
   "execution_count": 27,
   "id": "0c691acd",
   "metadata": {},
   "outputs": [
    {
     "name": "stdout",
     "output_type": "stream",
     "text": [
      "Created a new rectangle!!\n"
     ]
    }
   ],
   "source": [
    "rect6 = Rectangle(width=2)"
   ]
  },
  {
   "cell_type": "code",
   "execution_count": 28,
   "id": "2282ef64",
   "metadata": {},
   "outputs": [
    {
     "data": {
      "text/plain": [
       "10"
      ]
     },
     "execution_count": 28,
     "metadata": {},
     "output_type": "execute_result"
    }
   ],
   "source": [
    "rect6.calculateArea()"
   ]
  },
  {
   "cell_type": "code",
   "execution_count": null,
   "id": "16f8a12d",
   "metadata": {},
   "outputs": [],
   "source": []
  }
 ],
 "metadata": {
  "kernelspec": {
   "display_name": "Python 3 (ipykernel)",
   "language": "python",
   "name": "python3"
  },
  "language_info": {
   "codemirror_mode": {
    "name": "ipython",
    "version": 3
   },
   "file_extension": ".py",
   "mimetype": "text/x-python",
   "name": "python",
   "nbconvert_exporter": "python",
   "pygments_lexer": "ipython3",
   "version": "3.11.5"
  }
 },
 "nbformat": 4,
 "nbformat_minor": 5
}
